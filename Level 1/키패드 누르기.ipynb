{
 "cells": [
  {
   "cell_type": "markdown",
   "id": "clinical-subsection",
   "metadata": {},
   "source": [
    "# [카카오 인턴] 키패드 누르기\n",
    "## 문제 설명\n",
    "스마트폰 전화 키패드의 각 칸에 다음과 같이 숫자들이 적혀 있습니다.\n",
    "\n",
    "![kakao_phone1.png](https://grepp-programmers.s3.ap-northeast-2.amazonaws.com/files/production/4b69a271-5f4a-4bf4-9ebf-6ebed5a02d8d/kakao_phone1.png)\n",
    "\n",
    "이 전화 키패드에서 왼손과 오른손의 엄지손가락만을 이용해서 숫자만을 입력하려고 합니다.  \n",
    "맨 처음 왼손 엄지손가락은 * 키패드에 오른손 엄지손가락은 # 키패드 위치에서 시작하며, 엄지손가락을 사용하는 규칙은 다음과 같습니다.  \n",
    "\n",
    "1. 엄지손가락은 상하좌우 4가지 방향으로만 이동할 수 있으며 키패드 이동 한 칸은 거리로 1에 해당합니다.\n",
    "2. 왼쪽 열의 3개의 숫자 1, 4, 7을 입력할 때는 왼손 엄지손가락을 사용합니다.\n",
    "3. 오른쪽 열의 3개의 숫자 3, 6, 9를 입력할 때는 오른손 엄지손가락을 사용합니다.\n",
    "4. 가운데 열의 4개의 숫자 2, 5, 8, 0을 입력할 때는 두 엄지손가락의 현재 키패드의 위치에서 더 가까운 엄지손가락을 사용합니다.  \n",
    "  4-1. 만약 두 엄지손가락의 거리가 같다면, 오른손잡이는 오른손 엄지손가락, 왼손잡이는 왼손 엄지손가락을 사용합니다.\n",
    "\n",
    "순서대로 누를 번호가 담긴 배열 numbers, 왼손잡이인지 오른손잡이인 지를 나타내는 문자열 hand가 매개변수로 주어질 때, 각 번호를 누른 엄지손가락이 왼손인 지 오른손인 지를 나타내는 연속된 문자열 형태로 return 하도록 solution 함수를 완성해주세요.\n",
    "\n",
    "## [제한사항]\n",
    "\n",
    "+ numbers 배열의 크기는 1 이상 1,000 이하입니다.\n",
    "+ numbers 배열 원소의 값은 0 이상 9 이하인 정수입니다.\n",
    "+ hand는 \"left\" 또는 \"right\" 입니다.\n",
    "+ \"left\"는 왼손잡이, \"right\"는 오른손잡이를 의미합니다.\n",
    "+ 왼손 엄지손가락을 사용한 경우는 L, 오른손 엄지손가락을 사용한 경우는 R을 순서대로 이어붙여 문자열 형태로 return 해주세요.\n",
    "\n",
    "## 입출력 예\n",
    "|numbers|\thand\t|result|\n",
    "|-------|--------|--------|\n",
    "|[1, 3, 4, 5, 8, 2, 1, 4, 5, 9, 5]|\t\"right\"\t|\"LRLLLRLLRRL\"|\n",
    "|[7, 0, 8, 2, 8, 3, 1, 5, 7, 6, 2]|\t\"left\"|\t\"LRLLRRLLLRR\"|\n",
    "|[1, 2, 3, 4, 5, 6, 7, 8, 9, 0]|\t\"right\"|\t\"LLRLLRLLRL\"|\n",
    "\n",
    "### 입출력 예에 대한 설명\n",
    "#### 입출력 예 #1\n",
    "\n",
    "순서대로 눌러야 할 번호가 [1, 3, 4, 5, 8, 2, 1, 4, 5, 9, 5]이고, 오른손잡이입니다.\n",
    "\n",
    "|왼손 위치\t|오른손 위치|\t눌러야 할 숫자|\t사용한 손|\t설명|\n",
    "|----------|----------|-----------------|-------------|--------|\n",
    "|\\*|\t#|\t1|\tL|\t1은 왼손으로 누릅니다.|\n",
    "|1|\t#|\t3|\tR|\t3은 오른손으로 누릅니다.|\n",
    "|1|\t3|\t4|\tL|\t4는 왼손으로 누릅니다.|\n",
    "|4|\t3|\t5|\tL|\t왼손 거리는 1, 오른손 거리는 2이므로 왼손으로 5를 누릅니다.|\n",
    "|5|\t3|\t8|\tL|\t왼손 거리는 1, 오른손 거리는 3이므로 왼손으로 8을 누릅니다.|\n",
    "|8|\t3|\t2|\tR|\t왼손 거리는 2, 오른손 거리는 1이므로 오른손으로 2를 누릅니다.|\n",
    "|8|\t2|\t1|\tL|\t1은 왼손으로 누릅니다.|\n",
    "|1|\t2|\t4|\tL|\t4는 왼손으로 누릅니다.|\n",
    "|4|\t2|\t5|\tR|\t왼손 거리와 오른손 거리가 1로 같으므로, 오른손으로 5를 누릅니다.|\n",
    "|4|\t5|\t9|\tR|\t9는 오른손으로 누릅니다.|\n",
    "|4|\t9|\t5|\tL|\t왼손 거리는 1, 오른손 거리는 2이므로 왼손으로 5를 누릅니다.|\n",
    "|5|\t9|\t-|\t-|\t|\n",
    "\n",
    "\n",
    "따라서 \"LRLLLRLLRRL\"를 return 합니다.\n",
    "\n",
    "#### 입출력 예 #2\n",
    "\n",
    "왼손잡이가 [7, 0, 8, 2, 8, 3, 1, 5, 7, 6, 2]를 순서대로 누르면 사용한 손은 \"LRLLRRLLLRR\"이 됩니다.\n",
    "\n",
    "#### 입출력 예 #3\n",
    "\n",
    "오른손잡이가 [1, 2, 3, 4, 5, 6, 7, 8, 9, 0]를 순서대로 누르면 사용한 손은 \"LLRLLRLLRL\"이 됩니다."
   ]
  },
  {
   "cell_type": "markdown",
   "id": "sealed-threshold",
   "metadata": {},
   "source": [
    "## 문제 풀이"
   ]
  },
  {
   "cell_type": "code",
   "execution_count": 5,
   "id": "complicated-latino",
   "metadata": {},
   "outputs": [],
   "source": [
    "import numpy as np\n",
    "\n",
    "def solution(numbers, hand):\n",
    "    answer = ''\n",
    "    keypad = np.array(list(range(1, 10))+[11, 0, 12]).reshape((4, 3))\n",
    "    position_L = np.where(keypad == 11)\n",
    "    position_R = np.where(keypad == 12)\n",
    "    for i in numbers:\n",
    "        current_position = np.where(keypad == i)\n",
    "        if i in [1, 4, 7]:\n",
    "            answer += 'L'\n",
    "            position_L = current_position\n",
    "        elif i in [3, 6, 9]:\n",
    "            answer += 'R'\n",
    "            position_R = current_position\n",
    "        else:\n",
    "            L_len = abs(position_L[0] - current_position[0]) + abs(position_L[1] - current_position[1])\n",
    "            R_len = abs(position_R[0] - current_position[0]) + abs(position_R[1] - current_position[1])\n",
    "            if L_len < R_len:\n",
    "                answer += 'L'\n",
    "                position_L = current_position\n",
    "            elif L_len > R_len:\n",
    "                answer += 'R'\n",
    "                position_R = current_position\n",
    "            else:\n",
    "                if hand == 'right':\n",
    "                    answer += 'R'\n",
    "                    position_R = current_position\n",
    "                else :\n",
    "                    answer += 'L'\n",
    "                    position_L = current_position\n",
    "    return answer"
   ]
  },
  {
   "cell_type": "code",
   "execution_count": 6,
   "id": "secure-irish",
   "metadata": {},
   "outputs": [
    {
     "data": {
      "text/plain": [
       "'LRLLLRLLRRL'"
      ]
     },
     "execution_count": 6,
     "metadata": {},
     "output_type": "execute_result"
    }
   ],
   "source": [
    "numbers = [1, 3, 4, 5, 8, 2, 1, 4, 5, 9, 5]\n",
    "hand = 'right'\n",
    "solution(numbers, hand)"
   ]
  },
  {
   "cell_type": "code",
   "execution_count": 7,
   "id": "gross-magic",
   "metadata": {},
   "outputs": [
    {
     "data": {
      "text/plain": [
       "'LRLLRRLLLRR'"
      ]
     },
     "execution_count": 7,
     "metadata": {},
     "output_type": "execute_result"
    }
   ],
   "source": [
    "numbers = [7, 0, 8, 2, 8, 3, 1, 5, 7, 6, 2]\n",
    "hand = 'left'\n",
    "solution(numbers, hand)"
   ]
  },
  {
   "cell_type": "code",
   "execution_count": 8,
   "id": "recent-scanning",
   "metadata": {},
   "outputs": [
    {
     "data": {
      "text/plain": [
       "'LLRLLRLLRL'"
      ]
     },
     "execution_count": 8,
     "metadata": {},
     "output_type": "execute_result"
    }
   ],
   "source": [
    "numbers = [1, 2, 3, 4, 5, 6, 7, 8, 9, 0]\n",
    "hand = 'right'\n",
    "solution(numbers, hand)"
   ]
  }
 ],
 "metadata": {
  "kernelspec": {
   "display_name": "Python 3",
   "language": "python",
   "name": "python3"
  },
  "language_info": {
   "codemirror_mode": {
    "name": "ipython",
    "version": 3
   },
   "file_extension": ".py",
   "mimetype": "text/x-python",
   "name": "python",
   "nbconvert_exporter": "python",
   "pygments_lexer": "ipython3",
   "version": "3.7.6"
  },
  "toc": {
   "base_numbering": 1,
   "nav_menu": {},
   "number_sections": true,
   "sideBar": true,
   "skip_h1_title": true,
   "title_cell": "Table of Contents",
   "title_sidebar": "Contents",
   "toc_cell": false,
   "toc_position": {},
   "toc_section_display": true,
   "toc_window_display": false
  },
  "varInspector": {
   "cols": {
    "lenName": 16,
    "lenType": 16,
    "lenVar": 40
   },
   "kernels_config": {
    "python": {
     "delete_cmd_postfix": "",
     "delete_cmd_prefix": "del ",
     "library": "var_list.py",
     "varRefreshCmd": "print(var_dic_list())"
    },
    "r": {
     "delete_cmd_postfix": ") ",
     "delete_cmd_prefix": "rm(",
     "library": "var_list.r",
     "varRefreshCmd": "cat(var_dic_list()) "
    }
   },
   "types_to_exclude": [
    "module",
    "function",
    "builtin_function_or_method",
    "instance",
    "_Feature"
   ],
   "window_display": false
  }
 },
 "nbformat": 4,
 "nbformat_minor": 5
}
