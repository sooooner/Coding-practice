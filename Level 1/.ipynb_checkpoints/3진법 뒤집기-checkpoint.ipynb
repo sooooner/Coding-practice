{
 "cells": [
  {
   "cell_type": "markdown",
   "metadata": {},
   "source": [
    "# 3진법 뒤집기"
   ]
  },
  {
   "cell_type": "markdown",
   "metadata": {},
   "source": [
    "## 문제 설명\n",
    "자연수 n이 매개변수로 주어집니다. n을 3진법 상에서 앞뒤로 뒤집은 후, 이를 다시 10진법으로 표현한 수를 return 하도록 solution 함수를 완성해주세요."
   ]
  },
  {
   "cell_type": "markdown",
   "metadata": {},
   "source": [
    "## 제한사항\n",
    "+ n은 1 이상 100,000,000 이하인 자연수입니다."
   ]
  },
  {
   "cell_type": "markdown",
   "metadata": {},
   "source": [
    "## 입출력 예\n",
    "|n\t|result|\n",
    "|---|------|\n",
    "|45\t|7|\n",
    "|125|\t229|"
   ]
  },
  {
   "cell_type": "markdown",
   "metadata": {},
   "source": [
    "### 입출력 예 설명\n",
    "#### 입출력 예 #1\n",
    "\n",
    "답을 도출하는 과정은 다음과 같습니다.\n",
    "\n",
    "|n(10진법)|\tn(3진법)|\t앞뒤 반전(3진법)|\t10진법으로 표현|\n",
    "|--------|-----------|------------------|-----------|\n",
    "|45|\t1200|\t0021|\t7|\n",
    "\n",
    "+ 따라서 7을 return 해야 합니다.\n",
    "\n",
    "#### 입출력 예 #2\n",
    "\n",
    "답을 도출하는 과정은 다음과 같습니다.\n",
    "\n",
    "|n (10진법)|\tn (3진법)|\t앞뒤 반전(3진법)|\t10진법으로 표현|\n",
    "|--------|-----------|------------------|-----------|\n",
    "|125|\t11122|\t22111|\t229|\n",
    "\n",
    "+ 따라서 229를 return 해야 합니다."
   ]
  },
  {
   "cell_type": "markdown",
   "metadata": {},
   "source": [
    "## 문제 풀이"
   ]
  },
  {
   "cell_type": "code",
   "execution_count": 105,
   "metadata": {},
   "outputs": [],
   "source": [
    "def solution(n):\n",
    "    ternary = ''\n",
    "    while n > 2:\n",
    "        ternary += str(n%3)\n",
    "        n //= 3\n",
    "    ternary += str(n)\n",
    "    decimal = 0\n",
    "    for i, s in enumerate(ternary[::-1]):\n",
    "        decimal += (3**i)*int(s)\n",
    "    return decimal"
   ]
  },
  {
   "cell_type": "code",
   "execution_count": 106,
   "metadata": {},
   "outputs": [
    {
     "data": {
      "text/plain": [
       "7"
      ]
     },
     "execution_count": 106,
     "metadata": {},
     "output_type": "execute_result"
    }
   ],
   "source": [
    "n = 45\n",
    "solution(n)"
   ]
  },
  {
   "cell_type": "code",
   "execution_count": 107,
   "metadata": {},
   "outputs": [
    {
     "data": {
      "text/plain": [
       "229"
      ]
     },
     "execution_count": 107,
     "metadata": {},
     "output_type": "execute_result"
    }
   ],
   "source": [
    "n = 125\n",
    "solution(n)"
   ]
  }
 ],
 "metadata": {
  "kernelspec": {
   "display_name": "Python 3",
   "language": "python",
   "name": "python3"
  },
  "language_info": {
   "codemirror_mode": {
    "name": "ipython",
    "version": 3
   },
   "file_extension": ".py",
   "mimetype": "text/x-python",
   "name": "python",
   "nbconvert_exporter": "python",
   "pygments_lexer": "ipython3",
   "version": "3.7.6"
  },
  "toc": {
   "base_numbering": 1,
   "nav_menu": {},
   "number_sections": true,
   "sideBar": true,
   "skip_h1_title": true,
   "title_cell": "Table of Contents",
   "title_sidebar": "Contents",
   "toc_cell": false,
   "toc_position": {},
   "toc_section_display": true,
   "toc_window_display": false
  },
  "varInspector": {
   "cols": {
    "lenName": 16,
    "lenType": 16,
    "lenVar": 40
   },
   "kernels_config": {
    "python": {
     "delete_cmd_postfix": "",
     "delete_cmd_prefix": "del ",
     "library": "var_list.py",
     "varRefreshCmd": "print(var_dic_list())"
    },
    "r": {
     "delete_cmd_postfix": ") ",
     "delete_cmd_prefix": "rm(",
     "library": "var_list.r",
     "varRefreshCmd": "cat(var_dic_list()) "
    }
   },
   "types_to_exclude": [
    "module",
    "function",
    "builtin_function_or_method",
    "instance",
    "_Feature"
   ],
   "window_display": false
  }
 },
 "nbformat": 4,
 "nbformat_minor": 4
}
