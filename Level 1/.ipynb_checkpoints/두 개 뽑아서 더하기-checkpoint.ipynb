{
 "cells": [
  {
   "cell_type": "markdown",
   "metadata": {},
   "source": [
    "# 두 개 뽑아서 더하기"
   ]
  },
  {
   "cell_type": "markdown",
   "metadata": {},
   "source": [
    "## 문제 설명\n",
    "정수 배열 numbers가 주어집니다. numbers에서 서로 다른 인덱스에 있는 두 개의 수를 뽑아 더해서 만들 수 있는 모든 수를 배열에 오름차순으로 담아 return 하도록 solution 함수를 완성해주세요."
   ]
  },
  {
   "cell_type": "markdown",
   "metadata": {},
   "source": [
    "## 제한사항\n",
    "+ numbers의 길이는 2 이상 100 이하입니다.\n",
    "+ numbers의 모든 수는 0 이상 100 이하입니다."
   ]
  },
  {
   "cell_type": "markdown",
   "metadata": {},
   "source": [
    "## 입출력 예\n",
    "|numbers|\tresult|\n",
    "|-------|---------|\n",
    "|[2,1,3,4,1]|\t[2,3,4,5,6,7]|\n",
    "|[5,0,2,7]|\t[2,5,7,9,12]|\n",
    "\n",
    "### 입출력 예 설명\n",
    "\n",
    "#### 입출력 예 #1\n",
    "\n",
    "2 = 1 + 1 입니다. (1이 numbers에 두 개 있습니다.)  \n",
    "3 = 2 + 1 입니다.  \n",
    "4 = 1 + 3 입니다.  \n",
    "5 = 1 + 4 = 2 + 3 입니다.  \n",
    "6 = 2 + 4 입니다.  \n",
    "7 = 3 + 4 입니다.  \n",
    "따라서 **\\[2, 3, 4, 5, 6, 7\\]** 을 return 해야 합니다.  \n",
    "\n",
    "#### 입출력 예 #2\n",
    "\n",
    "2 = 0 + 2 입니다.  \n",
    "5 = 5 + 0 입니다.  \n",
    "7 = 0 + 7 = 5 + 2 입니다.  \n",
    "9 = 2 + 7 입니다.  \n",
    "12 = 5 + 7 입니다.  \n",
    "따라서 **\\[2, 5, 7, 9, 12\\]** 를 return 해야 합니다."
   ]
  },
  {
   "cell_type": "markdown",
   "metadata": {},
   "source": [
    "## 문제 풀이"
   ]
  },
  {
   "cell_type": "code",
   "execution_count": 5,
   "metadata": {},
   "outputs": [],
   "source": [
    "def solution(numbers):\n",
    "    answer = []\n",
    "    for i in range(len(numbers)-1):\n",
    "        for j in range(len(numbers)-i-1):\n",
    "            answer.append(numbers[i] + numbers[i+j+1])\n",
    "    answer = list(set(answer))\n",
    "    answer.sort()\n",
    "\n",
    "    return answer"
   ]
  },
  {
   "cell_type": "code",
   "execution_count": 6,
   "metadata": {},
   "outputs": [
    {
     "data": {
      "text/plain": [
       "[2, 3, 4, 5, 6, 7]"
      ]
     },
     "execution_count": 6,
     "metadata": {},
     "output_type": "execute_result"
    }
   ],
   "source": [
    "numbers = [2, 1, 3, 4, 1]\n",
    "# answer = [2, 3, 4, 5, 6, 7]\n",
    "solution(numbers)"
   ]
  },
  {
   "cell_type": "code",
   "execution_count": 7,
   "metadata": {},
   "outputs": [
    {
     "data": {
      "text/plain": [
       "[2, 5, 7, 9, 12]"
      ]
     },
     "execution_count": 7,
     "metadata": {},
     "output_type": "execute_result"
    }
   ],
   "source": [
    "numbers = [5, 0, 2, 7]\n",
    "# answer = [2, 5, 7, 9, 12]\n",
    "solution(numbers)"
   ]
  }
 ],
 "metadata": {
  "kernelspec": {
   "display_name": "Python 3",
   "language": "python",
   "name": "python3"
  },
  "language_info": {
   "codemirror_mode": {
    "name": "ipython",
    "version": 3
   },
   "file_extension": ".py",
   "mimetype": "text/x-python",
   "name": "python",
   "nbconvert_exporter": "python",
   "pygments_lexer": "ipython3",
   "version": "3.7.6"
  },
  "toc": {
   "base_numbering": 1,
   "nav_menu": {},
   "number_sections": true,
   "sideBar": true,
   "skip_h1_title": true,
   "title_cell": "Table of Contents",
   "title_sidebar": "Contents",
   "toc_cell": false,
   "toc_position": {},
   "toc_section_display": true,
   "toc_window_display": false
  },
  "varInspector": {
   "cols": {
    "lenName": 16,
    "lenType": 16,
    "lenVar": 40
   },
   "kernels_config": {
    "python": {
     "delete_cmd_postfix": "",
     "delete_cmd_prefix": "del ",
     "library": "var_list.py",
     "varRefreshCmd": "print(var_dic_list())"
    },
    "r": {
     "delete_cmd_postfix": ") ",
     "delete_cmd_prefix": "rm(",
     "library": "var_list.r",
     "varRefreshCmd": "cat(var_dic_list()) "
    }
   },
   "types_to_exclude": [
    "module",
    "function",
    "builtin_function_or_method",
    "instance",
    "_Feature"
   ],
   "window_display": false
  }
 },
 "nbformat": 4,
 "nbformat_minor": 4
}
