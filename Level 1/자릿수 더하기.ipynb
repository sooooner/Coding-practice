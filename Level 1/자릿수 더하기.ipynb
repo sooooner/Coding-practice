{
 "cells": [
  {
   "cell_type": "markdown",
   "id": "literary-reduction",
   "metadata": {},
   "source": [
    "# 자릿수 더하기\n",
    "\n",
    "## 문제 설명\n",
    "\n",
    "자연수 N이 주어지면, N의 각 자릿수의 합을 구해서 return 하는 solution 함수를 만들어 주세요.  \n",
    "예를들어 N = 123이면 1 + 2 + 3 = 6을 return 하면 됩니다.\n",
    "\n",
    "## 제한사항\n",
    "\n",
    "+ N의 범위 : 100,000,000 이하의 자연수\n",
    "\n",
    "## 입출력 예\n",
    "|N|\tanswer|\n",
    "|-|-------|\n",
    "|123|\t6|\n",
    "|987|\t24|\n",
    "\n",
    "### 입출력 예 설명\n",
    "#### 입출력 예 #1\n",
    "문제의 예시와 같습니다.\n",
    "\n",
    "#### 입출력 예 #2\n",
    "9 + 8 + 7 = 24이므로 24를 return 하면 됩니다.\n",
    "\n",
    "## 문제 풀이"
   ]
  },
  {
   "cell_type": "code",
   "execution_count": 1,
   "id": "mounted-scottish",
   "metadata": {},
   "outputs": [],
   "source": [
    "def solution(n):\n",
    "    return sum([int(num) for num in str(n)])"
   ]
  },
  {
   "cell_type": "code",
   "execution_count": 2,
   "id": "utility-ready",
   "metadata": {},
   "outputs": [
    {
     "data": {
      "text/plain": [
       "6"
      ]
     },
     "execution_count": 2,
     "metadata": {},
     "output_type": "execute_result"
    }
   ],
   "source": [
    "n = 123\n",
    "solution(n)"
   ]
  },
  {
   "cell_type": "code",
   "execution_count": 3,
   "id": "british-glenn",
   "metadata": {},
   "outputs": [
    {
     "data": {
      "text/plain": [
       "24"
      ]
     },
     "execution_count": 3,
     "metadata": {},
     "output_type": "execute_result"
    }
   ],
   "source": [
    "n = 987\n",
    "solution(n)"
   ]
  },
  {
   "cell_type": "markdown",
   "id": "animal-survey",
   "metadata": {},
   "source": [
    "## 다른 사람의 풀이"
   ]
  },
  {
   "cell_type": "code",
   "execution_count": 4,
   "id": "marine-channel",
   "metadata": {},
   "outputs": [],
   "source": [
    "def sum_digit(number):\n",
    "    return sum(map(int,str(number)))"
   ]
  },
  {
   "cell_type": "code",
   "execution_count": 5,
   "id": "severe-compatibility",
   "metadata": {},
   "outputs": [
    {
     "data": {
      "text/plain": [
       "6"
      ]
     },
     "execution_count": 5,
     "metadata": {},
     "output_type": "execute_result"
    }
   ],
   "source": [
    "number = 123\n",
    "sum_digit(number)"
   ]
  },
  {
   "cell_type": "code",
   "execution_count": 6,
   "id": "optional-identifier",
   "metadata": {},
   "outputs": [
    {
     "data": {
      "text/plain": [
       "24"
      ]
     },
     "execution_count": 6,
     "metadata": {},
     "output_type": "execute_result"
    }
   ],
   "source": [
    "number = 987\n",
    "sum_digit(number)"
   ]
  }
 ],
 "metadata": {
  "kernelspec": {
   "display_name": "Python 3",
   "language": "python",
   "name": "python3"
  },
  "language_info": {
   "codemirror_mode": {
    "name": "ipython",
    "version": 3
   },
   "file_extension": ".py",
   "mimetype": "text/x-python",
   "name": "python",
   "nbconvert_exporter": "python",
   "pygments_lexer": "ipython3",
   "version": "3.7.6"
  },
  "toc": {
   "base_numbering": 1,
   "nav_menu": {},
   "number_sections": true,
   "sideBar": true,
   "skip_h1_title": true,
   "title_cell": "Table of Contents",
   "title_sidebar": "Contents",
   "toc_cell": false,
   "toc_position": {},
   "toc_section_display": true,
   "toc_window_display": true
  },
  "varInspector": {
   "cols": {
    "lenName": 16,
    "lenType": 16,
    "lenVar": 40
   },
   "kernels_config": {
    "python": {
     "delete_cmd_postfix": "",
     "delete_cmd_prefix": "del ",
     "library": "var_list.py",
     "varRefreshCmd": "print(var_dic_list())"
    },
    "r": {
     "delete_cmd_postfix": ") ",
     "delete_cmd_prefix": "rm(",
     "library": "var_list.r",
     "varRefreshCmd": "cat(var_dic_list()) "
    }
   },
   "types_to_exclude": [
    "module",
    "function",
    "builtin_function_or_method",
    "instance",
    "_Feature"
   ],
   "window_display": false
  }
 },
 "nbformat": 4,
 "nbformat_minor": 5
}
