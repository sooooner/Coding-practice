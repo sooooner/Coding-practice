{
 "cells": [
  {
   "cell_type": "markdown",
   "id": "stock-bermuda",
   "metadata": {},
   "source": [
    "# 이상한 문자 만들기\n",
    "## 문제 설명\n",
    "문자열 s는 한 개 이상의 단어로 구성되어 있습니다. 각 단어는 하나 이상의 공백문자로 구분되어 있습니다.   \n",
    "각 단어의 짝수번째 알파벳은 대문자로, 홀수번째 알파벳은 소문자로 바꾼 문자열을 리턴하는 함수, solution을 완성하세요.\n",
    "\n",
    "## 제한 사항\n",
    "+ 문자열 전체의 짝/홀수 인덱스가 아니라, 단어(공백을 기준)별로 짝/홀수 인덱스를 판단해야합니다.\n",
    "+ 첫 번째 글자는 0번째 인덱스로 보아 짝수번째 알파벳으로 처리해야 합니다.\n",
    "\n",
    "## 입출력 예\n",
    "\n",
    "|s|\treturn|\n",
    "|-|-------|\n",
    "|try hello world|\tTrY HeLlO WoRlD|\n",
    "\n",
    "### 입출력 예 설명\n",
    "try hello world는 세 단어 try, hello, world로 구성되어 있습니다.  \n",
    "각 단어의 짝수번째 문자를 대문자로, 홀수번째 문자를 소문자로 바꾸면 TrY, HeLlO, WoRlD입니다. 따라서 TrY HeLlO WoRlD 를 리턴합니다.\n",
    "\n",
    "## 문제 풀이"
   ]
  },
  {
   "cell_type": "code",
   "execution_count": 1,
   "id": "reverse-antarctica",
   "metadata": {},
   "outputs": [],
   "source": [
    "def solution(s):\n",
    "    answer = ''\n",
    "    for word in s.split(' '):\n",
    "        for idx, spelling in enumerate(word):\n",
    "            if idx%2 == 0:\n",
    "                answer += spelling.upper()\n",
    "            else:\n",
    "                answer += spelling.lower()\n",
    "        answer += ' '\n",
    "    return answer[:-1]"
   ]
  },
  {
   "cell_type": "code",
   "execution_count": 2,
   "id": "distinct-liabilities",
   "metadata": {},
   "outputs": [
    {
     "data": {
      "text/plain": [
       "'TrY HeLlO WoRlD'"
      ]
     },
     "execution_count": 2,
     "metadata": {},
     "output_type": "execute_result"
    }
   ],
   "source": [
    "s = 'try hello world'\n",
    "solution(s)"
   ]
  }
 ],
 "metadata": {
  "kernelspec": {
   "display_name": "Python 3",
   "language": "python",
   "name": "python3"
  },
  "language_info": {
   "codemirror_mode": {
    "name": "ipython",
    "version": 3
   },
   "file_extension": ".py",
   "mimetype": "text/x-python",
   "name": "python",
   "nbconvert_exporter": "python",
   "pygments_lexer": "ipython3",
   "version": "3.7.6"
  },
  "toc": {
   "base_numbering": 1,
   "nav_menu": {},
   "number_sections": true,
   "sideBar": true,
   "skip_h1_title": true,
   "title_cell": "Table of Contents",
   "title_sidebar": "Contents",
   "toc_cell": false,
   "toc_position": {},
   "toc_section_display": true,
   "toc_window_display": true
  },
  "varInspector": {
   "cols": {
    "lenName": 16,
    "lenType": 16,
    "lenVar": 40
   },
   "kernels_config": {
    "python": {
     "delete_cmd_postfix": "",
     "delete_cmd_prefix": "del ",
     "library": "var_list.py",
     "varRefreshCmd": "print(var_dic_list())"
    },
    "r": {
     "delete_cmd_postfix": ") ",
     "delete_cmd_prefix": "rm(",
     "library": "var_list.r",
     "varRefreshCmd": "cat(var_dic_list()) "
    }
   },
   "types_to_exclude": [
    "module",
    "function",
    "builtin_function_or_method",
    "instance",
    "_Feature"
   ],
   "window_display": false
  }
 },
 "nbformat": 4,
 "nbformat_minor": 5
}
