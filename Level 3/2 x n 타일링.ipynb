{
 "cells": [
  {
   "attachments": {},
   "cell_type": "markdown",
   "id": "early-sheep",
   "metadata": {},
   "source": [
    "# 2 x n 타일링\n",
    "## 문제 설명\n",
    "가로 길이가 2이고 세로의 길이가 1인 직사각형모양의 타일이 있습니다. 이 직사각형 타일을 이용하여 세로의 길이가 2이고 가로의 길이가 n인 바닥을 가득 채우려고 합니다. 타일을 채울 때는 다음과 같이 2가지 방법이 있습니다.\n",
    "\n",
    "+ 타일을 가로로 배치 하는 경우\n",
    "+ 타일을 세로로 배치 하는 경우\n",
    "\n",
    "예를들어서 n이 7인 직사각형은 다음과 같이 채울 수 있습니다.\n",
    "\n",
    "![image.png](https://i.imgur.com/29ANX0f.png)\n",
    "\n",
    "직사각형의 가로의 길이 n이 매개변수로 주어질 때, 이 직사각형을 채우는 방법의 수를 return 하는 solution 함수를 완성해주세요.\n",
    "\n",
    "## 제한사항\n",
    "+ 가로의 길이 n은 60,000이하의 자연수 입니다.\n",
    "+ 경우의 수가 많아 질 수 있으므로, 경우의 수를 1,000,000,007으로 나눈 나머지를 return해주세요.\n",
    "\n",
    "## 입출력 예\n",
    "|n|\tresult|\n",
    "|-|------|\n",
    "|4|\t5|\n",
    "\n",
    "### 입출력 예 설명\n",
    "#### 입출력 예 #1\n",
    "다음과 같이 5가지 방법이 있다.\n",
    "\n",
    "![image-2.png](https://i.imgur.com/keiKrD3.png)\n",
    "\n",
    "![image-3.png](https://i.imgur.com/O9GdTE0.png)\n",
    "\n",
    "![image-3.png](https://i.imgur.com/IZBmc6M.png)\n",
    "\n",
    "![image-3.png](https://i.imgur.com/29LWVzK.png)\n",
    "\n",
    "![image-3.png](https://i.imgur.com/z64JbNf.png)\n",
    "\n",
    "## 문제 풀이"
   ]
  },
  {
   "cell_type": "markdown",
   "id": "electoral-gossip",
   "metadata": {},
   "source": [
    "### 고려 사항\n",
    "+ 하나하나 계산해보니 피보나치 수열이였다...\n",
    "+ 길이 n인 리스트를 만들고 보니 효율성에서 광탈 함"
   ]
  },
  {
   "cell_type": "code",
   "execution_count": 29,
   "id": "fabulous-naples",
   "metadata": {},
   "outputs": [],
   "source": [
    "def solution(n):\n",
    "    a = 1\n",
    "    b = 1\n",
    "    for _ in range(n-1):\n",
    "        temp = a\n",
    "        a = b\n",
    "        b += temp\n",
    "    return b%1000000007"
   ]
  },
  {
   "cell_type": "code",
   "execution_count": 30,
   "id": "neutral-audit",
   "metadata": {},
   "outputs": [
    {
     "data": {
      "text/plain": [
       "5"
      ]
     },
     "execution_count": 30,
     "metadata": {},
     "output_type": "execute_result"
    }
   ],
   "source": [
    "n = 4\n",
    "solution(n)"
   ]
  }
 ],
 "metadata": {
  "kernelspec": {
   "display_name": "Python 3",
   "language": "python",
   "name": "python3"
  },
  "language_info": {
   "codemirror_mode": {
    "name": "ipython",
    "version": 3
   },
   "file_extension": ".py",
   "mimetype": "text/x-python",
   "name": "python",
   "nbconvert_exporter": "python",
   "pygments_lexer": "ipython3",
   "version": "3.7.6"
  },
  "toc": {
   "base_numbering": 1,
   "nav_menu": {},
   "number_sections": true,
   "sideBar": true,
   "skip_h1_title": true,
   "title_cell": "Table of Contents",
   "title_sidebar": "Contents",
   "toc_cell": false,
   "toc_position": {},
   "toc_section_display": true,
   "toc_window_display": false
  },
  "varInspector": {
   "cols": {
    "lenName": 16,
    "lenType": 16,
    "lenVar": 40
   },
   "kernels_config": {
    "python": {
     "delete_cmd_postfix": "",
     "delete_cmd_prefix": "del ",
     "library": "var_list.py",
     "varRefreshCmd": "print(var_dic_list())"
    },
    "r": {
     "delete_cmd_postfix": ") ",
     "delete_cmd_prefix": "rm(",
     "library": "var_list.r",
     "varRefreshCmd": "cat(var_dic_list()) "
    }
   },
   "types_to_exclude": [
    "module",
    "function",
    "builtin_function_or_method",
    "instance",
    "_Feature"
   ],
   "window_display": false
  }
 },
 "nbformat": 4,
 "nbformat_minor": 5
}
