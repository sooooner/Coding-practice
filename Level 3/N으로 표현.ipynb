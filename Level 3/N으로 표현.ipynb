{
 "cells": [
  {
   "cell_type": "markdown",
   "id": "contemporary-apple",
   "metadata": {},
   "source": [
    "# N으로 표현\n",
    "## 문제 설명\n",
    "아래와 같이 5와 사칙연산만으로 12를 표현할 수 있습니다.\n",
    "\n",
    "+ 12 = 5 + 5 + (5 / 5) + (5 / 5)\n",
    "+ 12 = 55 / 5 + 5 / 5\n",
    "+ 12 = (55 + 5) / 5\n",
    "\n",
    "5를 사용한 횟수는 각각 6,5,4 입니다. 그리고 이중 가장 작은 경우는 4입니다.  \n",
    "이처럼 숫자 N과 number가 주어질 때, N과 사칙연산만 사용해서 표현 할 수 있는 방법 중 N 사용횟수의 최솟값을 return 하도록 solution 함수를 작성하세요.\n",
    "\n",
    "## 제한사항\n",
    "+ N은 1 이상 9 이하입니다.\n",
    "+ number는 1 이상 32,000 이하입니다.\n",
    "+ 수식에는 괄호와 사칙연산만 가능하며 나누기 연산에서 나머지는 무시합니다.\n",
    "+ 최솟값이 8보다 크면 -1을 return 합니다.\n",
    "\n",
    "## 입출력 예\n",
    "|N|\tnumber|\treturn|\n",
    "|-|-------|-------|\n",
    "|5|\t12|\t4|\n",
    "|2|\t11|\t3|\n",
    "\n",
    "### 입출력 예 설명\n",
    "#### 예제 #1\n",
    "문제에 나온 예와 같습니다.\n",
    "#### 예제 #2\n",
    "11 = 22 / 2와 같이 2를 3번만 사용하여 표현할 수 있습니다.\n",
    "\n",
    "## 문제 풀이"
   ]
  },
  {
   "cell_type": "code",
   "execution_count": 1,
   "id": "automotive-gauge",
   "metadata": {},
   "outputs": [],
   "source": [
    "def solution(N, number):\n",
    "    answer = 0\n",
    "    return answer"
   ]
  },
  {
   "cell_type": "code",
   "execution_count": 2,
   "id": "senior-surge",
   "metadata": {},
   "outputs": [
    {
     "data": {
      "text/plain": [
       "0"
      ]
     },
     "execution_count": 2,
     "metadata": {},
     "output_type": "execute_result"
    }
   ],
   "source": [
    "N = 5\n",
    "number = 12\n",
    "solution(N, number)"
   ]
  },
  {
   "cell_type": "code",
   "execution_count": 3,
   "id": "historical-disclaimer",
   "metadata": {},
   "outputs": [
    {
     "data": {
      "text/plain": [
       "0"
      ]
     },
     "execution_count": 3,
     "metadata": {},
     "output_type": "execute_result"
    }
   ],
   "source": [
    "N = 2\n",
    "number = 11\n",
    "solution(N, number)"
   ]
  }
 ],
 "metadata": {
  "kernelspec": {
   "display_name": "Python 3",
   "language": "python",
   "name": "python3"
  },
  "language_info": {
   "codemirror_mode": {
    "name": "ipython",
    "version": 3
   },
   "file_extension": ".py",
   "mimetype": "text/x-python",
   "name": "python",
   "nbconvert_exporter": "python",
   "pygments_lexer": "ipython3",
   "version": "3.7.6"
  },
  "toc": {
   "base_numbering": 1,
   "nav_menu": {},
   "number_sections": true,
   "sideBar": true,
   "skip_h1_title": true,
   "title_cell": "Table of Contents",
   "title_sidebar": "Contents",
   "toc_cell": false,
   "toc_position": {},
   "toc_section_display": true,
   "toc_window_display": false
  },
  "varInspector": {
   "cols": {
    "lenName": 16,
    "lenType": 16,
    "lenVar": 40
   },
   "kernels_config": {
    "python": {
     "delete_cmd_postfix": "",
     "delete_cmd_prefix": "del ",
     "library": "var_list.py",
     "varRefreshCmd": "print(var_dic_list())"
    },
    "r": {
     "delete_cmd_postfix": ") ",
     "delete_cmd_prefix": "rm(",
     "library": "var_list.r",
     "varRefreshCmd": "cat(var_dic_list()) "
    }
   },
   "types_to_exclude": [
    "module",
    "function",
    "builtin_function_or_method",
    "instance",
    "_Feature"
   ],
   "window_display": false
  }
 },
 "nbformat": 4,
 "nbformat_minor": 5
}
