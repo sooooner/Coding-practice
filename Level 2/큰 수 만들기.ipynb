{
 "cells": [
  {
   "cell_type": "markdown",
   "id": "patent-gravity",
   "metadata": {},
   "source": [
    "# 큰 수 만들기\n",
    "## 문제 설명\n",
    "어떤 숫자에서 k개의 수를 제거했을 때 얻을 수 있는 가장 큰 숫자를 구하려 합니다.\n",
    "\n",
    "예를 들어, 숫자 1924에서 수 두 개를 제거하면 [19, 12, 14, 92, 94, 24] 를 만들 수 있습니다. 이 중 가장 큰 숫자는 94 입니다.\n",
    "\n",
    "문자열 형식으로 숫자 number와 제거할 수의 개수 k가 solution 함수의 매개변수로 주어집니다.    \n",
    "number에서 k 개의 수를 제거했을 때 만들 수 있는 수 중 가장 큰 숫자를 문자열 형태로 return 하도록 solution 함수를 완성하세요.\n",
    "\n",
    "## 제한 조건\n",
    "+ number는 1자리 이상, 1,000,000자리 이하인 숫자입니다.\n",
    "+ k는 1 이상 number의 자릿수 미만인 자연수입니다.\n",
    "\n",
    "## 입출력 예\n",
    "\n",
    "|number\t|k|\treturn|\n",
    "|-------|-|-------|\n",
    "|1924\t|2|\t94|\n",
    "|1231234|\t3|\t3234|\n",
    "|4177252841|\t4|\t775841|\n",
    "\n",
    "## 문제 풀이"
   ]
  },
  {
   "cell_type": "code",
   "execution_count": 301,
   "id": "incident-latest",
   "metadata": {},
   "outputs": [],
   "source": [
    "def solution(number, k):\n",
    "    answer = [number[0]]\n",
    "    for n in number[1:]:\n",
    "        while len(answer) > 0 and int(n) > int(answer[-1]) and k > 0 :\n",
    "            answer.pop()\n",
    "            k -= 1\n",
    "        answer.append(n)\n",
    "    if k != 0:\n",
    "        answer = answer[:-k]\n",
    "    return \"\".join(answer)"
   ]
  },
  {
   "cell_type": "code",
   "execution_count": 350,
   "id": "close-elizabeth",
   "metadata": {},
   "outputs": [
    {
     "data": {
      "text/plain": [
       "'94'"
      ]
     },
     "execution_count": 350,
     "metadata": {},
     "output_type": "execute_result"
    }
   ],
   "source": [
    "number = '1924'\n",
    "k = 2\n",
    "solution(number, k)"
   ]
  },
  {
   "cell_type": "code",
   "execution_count": 351,
   "id": "running-decrease",
   "metadata": {},
   "outputs": [
    {
     "data": {
      "text/plain": [
       "'3234'"
      ]
     },
     "execution_count": 351,
     "metadata": {},
     "output_type": "execute_result"
    }
   ],
   "source": [
    "number = '1231234'\n",
    "k = 3\n",
    "solution(number, k)"
   ]
  },
  {
   "cell_type": "code",
   "execution_count": 352,
   "id": "reduced-blame",
   "metadata": {},
   "outputs": [
    {
     "data": {
      "text/plain": [
       "'775841'"
      ]
     },
     "execution_count": 352,
     "metadata": {},
     "output_type": "execute_result"
    }
   ],
   "source": [
    "number = '4177252841'\n",
    "k = 4\n",
    "solution(number, k)"
   ]
  }
 ],
 "metadata": {
  "kernelspec": {
   "display_name": "Python 3",
   "language": "python",
   "name": "python3"
  },
  "language_info": {
   "codemirror_mode": {
    "name": "ipython",
    "version": 3
   },
   "file_extension": ".py",
   "mimetype": "text/x-python",
   "name": "python",
   "nbconvert_exporter": "python",
   "pygments_lexer": "ipython3",
   "version": "3.7.6"
  },
  "toc": {
   "base_numbering": 1,
   "nav_menu": {},
   "number_sections": true,
   "sideBar": true,
   "skip_h1_title": true,
   "title_cell": "Table of Contents",
   "title_sidebar": "Contents",
   "toc_cell": false,
   "toc_position": {},
   "toc_section_display": true,
   "toc_window_display": false
  },
  "varInspector": {
   "cols": {
    "lenName": 16,
    "lenType": 16,
    "lenVar": 40
   },
   "kernels_config": {
    "python": {
     "delete_cmd_postfix": "",
     "delete_cmd_prefix": "del ",
     "library": "var_list.py",
     "varRefreshCmd": "print(var_dic_list())"
    },
    "r": {
     "delete_cmd_postfix": ") ",
     "delete_cmd_prefix": "rm(",
     "library": "var_list.r",
     "varRefreshCmd": "cat(var_dic_list()) "
    }
   },
   "types_to_exclude": [
    "module",
    "function",
    "builtin_function_or_method",
    "instance",
    "_Feature"
   ],
   "window_display": false
  }
 },
 "nbformat": 4,
 "nbformat_minor": 5
}
