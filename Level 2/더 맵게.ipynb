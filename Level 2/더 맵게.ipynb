{
 "cells": [
  {
   "cell_type": "markdown",
   "id": "sublime-calculation",
   "metadata": {},
   "source": [
    "# 더 맵게\n",
    "## 문제 설명\n",
    "매운 것을 좋아하는 Leo는 모든 음식의 스코빌 지수를 K 이상으로 만들고 싶습니다. 모든 음식의 스코빌 지수를 K 이상으로 만들기 위해 Leo는 스코빌 지수가 가장 낮은 두 개의 음식을 아래와 같이 특별한 방법으로 섞어 새로운 음식을 만듭니다.\n",
    "\n",
    ">섞은 음식의 스코빌 지수 = 가장 맵지 않은 음식의 스코빌 지수 + (두 번째로 맵지 않은 음식의 스코빌 지수 * 2)\n",
    "\n",
    "Leo는 모든 음식의 스코빌 지수가 K 이상이 될 때까지 반복하여 섞습니다.  \n",
    "Leo가 가진 음식의 스코빌 지수를 담은 배열 scoville과 원하는 스코빌 지수 K가 주어질 때, 모든 음식의 스코빌 지수를 K 이상으로 만들기 위해 섞어야 하는 최소 횟수를 return 하도록 solution 함수를 작성해주세요.\n",
    "\n",
    "## 제한 사항\n",
    "\n",
    "+ scoville의 길이는 2 이상 1,000,000 이하입니다.\n",
    "+ K는 0 이상 1,000,000,000 이하입니다.\n",
    "+ scoville의 원소는 각각 0 이상 1,000,000 이하입니다.\n",
    "+ 모든 음식의 스코빌 지수를 K 이상으로 만들 수 없는 경우에는 -1을 return 합니다.\n",
    "\n",
    "## 입출력 예\n",
    "\n",
    "|scoville|\tK|\treturn|\n",
    "|--------|---|---------|\n",
    "|[1, 2, 3, 9, 10, 12]|\t7|\t2|\n",
    "\n",
    "### 입출력 예 설명\n",
    "1. 스코빌 지수가 1인 음식과 2인 음식을 섞으면 음식의 스코빌 지수가 아래와 같이 됩니다.  \n",
    "새로운 음식의 스코빌 지수 = 1 + (2 * 2) = 5  \n",
    "가진 음식의 스코빌 지수 = [5, 3, 9, 10, 12]\n",
    "\n",
    "\n",
    "2. 스코빌 지수가 3인 음식과 5인 음식을 섞으면 음식의 스코빌 지수가 아래와 같이 됩니다.  \n",
    "새로운 음식의 스코빌 지수 = 3 + (5 * 2) = 13  \n",
    "가진 음식의 스코빌 지수 = [13, 9, 10, 12]\n",
    "\n",
    "모든 음식의 스코빌 지수가 7 이상이 되었고 이때 섞은 횟수는 2회입니다.\n",
    "\n",
    "## 문제 풀이\n",
    "+ heap을 구현하고 함수를 만들었더니 효율성 광탈함..."
   ]
  },
  {
   "cell_type": "code",
   "execution_count": 188,
   "id": "catholic-bleeding",
   "metadata": {},
   "outputs": [],
   "source": [
    "class MinHeap(object):\n",
    "    def __init__(self):\n",
    "        self.heap = []\n",
    "        \n",
    "    def insert(self, n):\n",
    "        self.heap.append(n)\n",
    "        last_idx = len(self.heap) - 1\n",
    "        while 0 <= last_idx:\n",
    "            parent_idx = self.parent(last_idx)\n",
    "            if 0 <= parent_idx and self.heap[parent_idx] > self.heap[last_idx]:\n",
    "                self.swap(last_idx, parent_idx)\n",
    "                last_idx = parent_idx\n",
    "            else:\n",
    "                break\n",
    "    \n",
    "    def delete(self):\n",
    "        last_idx = len(self.heap) - 1\n",
    "        if last_idx < 0:\n",
    "            return -1\n",
    "        self.swap(0, last_idx)\n",
    "        deleted_element = self.heap.pop()\n",
    "        self.minheapify(0)\n",
    "        return deleted_element\n",
    "    \n",
    "    def minheapify(self, i):\n",
    "        left_idx = self.leftchild(i)\n",
    "        right_idx = self.rightchild(i)\n",
    "        min_idx = i\n",
    "        \n",
    "        if left_idx <= len(self.heap) - 1 and self.heap[min_idx] > self.heap[left_idx]:\n",
    "            min_idx = left_idx\n",
    "        if right_idx <= len(self.heap) - 1 and self.heap[min_idx] > self.heap[right_idx]:\n",
    "            min_idx = right_idx   \n",
    "            \n",
    "        if min_idx != i:\n",
    "            self.swap(i, min_idx)\n",
    "            self.minheapify(min_idx)\n",
    "    \n",
    "    def swap(self, i, parent_idx):\n",
    "        self.heap[i], self.heap[parent_idx] = self.heap[parent_idx], self.heap[i]\n",
    "    \n",
    "    def parent(self, idx):\n",
    "        return (idx-1)//2\n",
    "    \n",
    "    def leftchild(self, idx):\n",
    "        return idx*2+1\n",
    "    \n",
    "    def rightchild(self, idx):\n",
    "        return idx*2+2\n",
    "    \n",
    "    def return_heap(self):\n",
    "        return self.heap\n",
    "\n",
    "\n",
    "def solution(scoville, K):\n",
    "    answer = 0\n",
    "    mh = MinHeap()\n",
    "    for i in scoville:\n",
    "        mh.insert(i)\n",
    "        \n",
    "    while mh.return_heap()[0] < K:\n",
    "        if len(mh.return_heap()) == 1:\n",
    "            return -1\n",
    "        mh.insert(mh.delete() + mh.delete()*2)\n",
    "        answer += 1\n",
    "    return answer\n"
   ]
  },
  {
   "cell_type": "code",
   "execution_count": 189,
   "id": "running-arlington",
   "metadata": {},
   "outputs": [
    {
     "data": {
      "text/plain": [
       "2"
      ]
     },
     "execution_count": 189,
     "metadata": {},
     "output_type": "execute_result"
    }
   ],
   "source": [
    "scoville = [1, 2, 3, 9, 10, 12]\n",
    "K = 7\n",
    "solution(scoville, K)"
   ]
  },
  {
   "cell_type": "markdown",
   "id": "derived-wichita",
   "metadata": {},
   "source": [
    "+ 파이썬 내장 함수 heapq를 썻더니 통과되었음"
   ]
  },
  {
   "cell_type": "code",
   "execution_count": 195,
   "id": "right-complement",
   "metadata": {},
   "outputs": [],
   "source": [
    "import heapq\n",
    "\n",
    "def solution(scoville, k):\n",
    "    answer = 0\n",
    "    mh = []\n",
    "    for i in scoville:\n",
    "        heapq.heappush(mh, i)\n",
    "\n",
    "    while mh[0] < k:\n",
    "        if len(mh) == 1:\n",
    "            return -1\n",
    "        heapq.heappush(mh, heapq.heappop(mh) + (heapq.heappop(mh) * 2))\n",
    "        answer += 1\n",
    "\n",
    "    return answer"
   ]
  },
  {
   "cell_type": "code",
   "execution_count": 196,
   "id": "animal-territory",
   "metadata": {},
   "outputs": [
    {
     "data": {
      "text/plain": [
       "2"
      ]
     },
     "execution_count": 196,
     "metadata": {},
     "output_type": "execute_result"
    }
   ],
   "source": [
    "scoville = [1, 2, 3, 9, 10, 12]\n",
    "K = 7\n",
    "solution(scoville, K)"
   ]
  }
 ],
 "metadata": {
  "kernelspec": {
   "display_name": "Python 3",
   "language": "python",
   "name": "python3"
  },
  "language_info": {
   "codemirror_mode": {
    "name": "ipython",
    "version": 3
   },
   "file_extension": ".py",
   "mimetype": "text/x-python",
   "name": "python",
   "nbconvert_exporter": "python",
   "pygments_lexer": "ipython3",
   "version": "3.7.6"
  },
  "toc": {
   "base_numbering": 1,
   "nav_menu": {},
   "number_sections": true,
   "sideBar": true,
   "skip_h1_title": true,
   "title_cell": "Table of Contents",
   "title_sidebar": "Contents",
   "toc_cell": false,
   "toc_position": {
    "height": "calc(100% - 180px)",
    "left": "10px",
    "top": "150px",
    "width": "273.188px"
   },
   "toc_section_display": true,
   "toc_window_display": false
  },
  "varInspector": {
   "cols": {
    "lenName": 16,
    "lenType": 16,
    "lenVar": 40
   },
   "kernels_config": {
    "python": {
     "delete_cmd_postfix": "",
     "delete_cmd_prefix": "del ",
     "library": "var_list.py",
     "varRefreshCmd": "print(var_dic_list())"
    },
    "r": {
     "delete_cmd_postfix": ") ",
     "delete_cmd_prefix": "rm(",
     "library": "var_list.r",
     "varRefreshCmd": "cat(var_dic_list()) "
    }
   },
   "types_to_exclude": [
    "module",
    "function",
    "builtin_function_or_method",
    "instance",
    "_Feature"
   ],
   "window_display": false
  }
 },
 "nbformat": 4,
 "nbformat_minor": 5
}
