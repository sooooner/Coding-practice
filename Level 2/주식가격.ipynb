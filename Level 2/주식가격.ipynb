{
 "cells": [
  {
   "cell_type": "markdown",
   "id": "monetary-looking",
   "metadata": {},
   "source": [
    "# 주식가격\n",
    "\n",
    "## 문제 설명\n",
    "\n",
    "초 단위로 기록된 주식가격이 담긴 배열 prices가 매개변수로 주어질 때, 가격이 떨어지지 않은 기간은 몇 초인지를 return 하도록 solution 함수를 완성하세요.\n",
    "\n",
    "## 제한사항\n",
    "\n",
    "+ prices의 각 가격은 1 이상 10,000 이하인 자연수입니다.\n",
    "+ prices의 길이는 2 이상 100,000 이하입니다.\n",
    "\n",
    "## 입출력 예\n",
    "\n",
    "|prices|\treturn|\n",
    "|-----|-----------|\n",
    "|[1, 2, 3, 2, 3]|\t[4, 3, 1, 1, 0]|\n",
    "\n",
    "### 입출력 예 설명\n",
    "+ 1초 시점의 ₩1은 끝까지 가격이 떨어지지 않았습니다.\n",
    "+ 2초 시점의 ₩2은 끝까지 가격이 떨어지지 않았습니다.\n",
    "+ 3초 시점의 ₩3은 1초뒤에 가격이 떨어집니다. 따라서 1초간 가격이 떨어지지 않은 것으로 봅니다.\n",
    "+ 4초 시점의 ₩2은 1초간 가격이 떨어지지 않았습니다.\n",
    "+ 5초 시점의 ₩3은 0초간 가격이 떨어지지 않았습니다.\n",
    "\n",
    "## 문제 풀이\n",
    "### 고려사항\n",
    "+ 단순히 for loop를 돌렸더니 효율성 테스트에서 실패함\n",
    "+ 스택을 이용해서 계산복잡도를 최대한 줄여봄"
   ]
  },
  {
   "cell_type": "code",
   "execution_count": 293,
   "id": "mobile-february",
   "metadata": {},
   "outputs": [],
   "source": [
    "def solution(prices):\n",
    "    answer = list(range(len(prices)))[::-1]\n",
    "    stack = [0]\n",
    "    for i in range(1, len(prices)):\n",
    "        while stack:\n",
    "            idx = stack[-1]\n",
    "            if prices[idx] > prices[i]:\n",
    "                answer[idx] = i - idx\n",
    "                stack.pop()\n",
    "            else:\n",
    "                break\n",
    "        stack.append(i)\n",
    "    return answer"
   ]
  },
  {
   "cell_type": "code",
   "execution_count": 294,
   "id": "intense-swedish",
   "metadata": {},
   "outputs": [
    {
     "data": {
      "text/plain": [
       "[4, 3, 1, 1, 0]"
      ]
     },
     "execution_count": 294,
     "metadata": {},
     "output_type": "execute_result"
    }
   ],
   "source": [
    "prices = [1, 2, 3, 2, 3]\n",
    "solution(prices)"
   ]
  },
  {
   "cell_type": "markdown",
   "id": "hourly-variety",
   "metadata": {},
   "source": [
    "## 다른 사람의 풀이\n",
    "+ deque를 이용했는데 아이디어는 비슷한것 같다"
   ]
  },
  {
   "cell_type": "code",
   "execution_count": 295,
   "id": "bibliographic-landscape",
   "metadata": {},
   "outputs": [],
   "source": [
    "from collections import deque\n",
    "def solution(prices):\n",
    "    answer = []\n",
    "    prices = deque(prices)\n",
    "    while prices:\n",
    "        c = prices.popleft()\n",
    "\n",
    "        count = 0\n",
    "        for i in prices:\n",
    "            if c > i:\n",
    "                count += 1\n",
    "                break\n",
    "            count += 1\n",
    "\n",
    "        answer.append(count)\n",
    "\n",
    "    return answer"
   ]
  },
  {
   "cell_type": "code",
   "execution_count": 296,
   "id": "ceramic-highlight",
   "metadata": {},
   "outputs": [
    {
     "data": {
      "text/plain": [
       "[4, 3, 1, 1, 0]"
      ]
     },
     "execution_count": 296,
     "metadata": {},
     "output_type": "execute_result"
    }
   ],
   "source": [
    "prices = [1, 2, 3, 2, 3]\n",
    "solution(prices)"
   ]
  }
 ],
 "metadata": {
  "kernelspec": {
   "display_name": "Python 3",
   "language": "python",
   "name": "python3"
  },
  "language_info": {
   "codemirror_mode": {
    "name": "ipython",
    "version": 3
   },
   "file_extension": ".py",
   "mimetype": "text/x-python",
   "name": "python",
   "nbconvert_exporter": "python",
   "pygments_lexer": "ipython3",
   "version": "3.7.6"
  },
  "toc": {
   "base_numbering": 1,
   "nav_menu": {},
   "number_sections": true,
   "sideBar": true,
   "skip_h1_title": true,
   "title_cell": "Table of Contents",
   "title_sidebar": "Contents",
   "toc_cell": false,
   "toc_position": {},
   "toc_section_display": true,
   "toc_window_display": false
  },
  "varInspector": {
   "cols": {
    "lenName": 16,
    "lenType": 16,
    "lenVar": 40
   },
   "kernels_config": {
    "python": {
     "delete_cmd_postfix": "",
     "delete_cmd_prefix": "del ",
     "library": "var_list.py",
     "varRefreshCmd": "print(var_dic_list())"
    },
    "r": {
     "delete_cmd_postfix": ") ",
     "delete_cmd_prefix": "rm(",
     "library": "var_list.r",
     "varRefreshCmd": "cat(var_dic_list()) "
    }
   },
   "types_to_exclude": [
    "module",
    "function",
    "builtin_function_or_method",
    "instance",
    "_Feature"
   ],
   "window_display": false
  }
 },
 "nbformat": 4,
 "nbformat_minor": 5
}
