{
 "cells": [
  {
   "cell_type": "markdown",
   "id": "combined-commonwealth",
   "metadata": {},
   "source": [
    "# 압축\n",
    "신입사원 어피치는 카카오톡으로 전송되는 메시지를 압축하여 전송 효율을 높이는 업무를 맡게 되었다. 메시지를 압축하더라도 전달되는 정보가 바뀌어서는 안 되므로, 압축 전의 정보를 완벽하게 복원 가능한 무손실 압축 알고리즘을 구현하기로 했다.\n",
    "\n",
    "어피치는 여러 압축 알고리즘 중에서 성능이 좋고 구현이 간단한 LZW(Lempel–Ziv–Welch) 압축을 구현하기로 했다. LZW 압축은 1983년 발표된 알고리즘으로, 이미지 파일 포맷인 GIF 등 다양한 응용에서 사용되었다.\n",
    "\n",
    "LZW 압축은 다음 과정을 거친다.\n",
    "\n",
    "1. 길이가 1인 모든 단어를 포함하도록 사전을 초기화한다.\n",
    "1. 사전에서 현재 입력과 일치하는 가장 긴 문자열 w를 찾는다.\n",
    "1. w에 해당하는 사전의 색인 번호를 출력하고, 입력에서 w를 제거한다.\n",
    "1. 입력에서 처리되지 않은 다음 글자가 남아있다면(c), w+c에 해당하는 단어를 사전에 등록한다.\n",
    "1. 단계 2로 돌아간다.\n",
    "\n",
    "압축 알고리즘이 영문 대문자만 처리한다고 할 때, 사전은 다음과 같이 초기화된다. 사전의 색인 번호는 정수값으로 주어지며, 1부터 시작한다고 하자.\n",
    "\n",
    "|색인 번호|\t1|\t2\t|3|\t...|\t24\t|25\t|26|\n",
    "|---------|--|----|--|----|-------|---|--|\n",
    "|단어|\tA|\tB\t|C\t|...\t|X|\tY\t|Z|\n",
    "\n",
    "예를 들어 입력으로 KAKAO가 들어온다고 하자.\n",
    "\n",
    "1. 현재 사전에는 KAKAO의 첫 글자 K는 등록되어 있으나, 두 번째 글자까지인 KA는 없으므로, 첫 글자 K에 해당하는 색인 번호 11을 출력하고, 다음 글자인 A를 포함한 KA를 사전에 27 번째로 등록한다.\n",
    "1. 두 번째 글자 A는 사전에 있으나, 세 번째 글자까지인 AK는 사전에 없으므로, A의 색인 번호 1을 출력하고, AK를 사전에 28 번째로 등록한다.\n",
    "1. 세 번째 글자에서 시작하는 KA가 사전에 있으므로, KA에 해당하는 색인 번호 27을 출력하고, 다음 글자 O를 포함한 KAO를 29 번째로 등록한다.\n",
    "1. 마지막으로 처리되지 않은 글자 O에 해당하는 색인 번호 15를 출력한다.\n",
    "\n",
    "|현재 입력(w)|\t다음 글자(c)\t|출력\t|사전 추가(w+c)|\n",
    "|--------|------------|------|---------|\n",
    "|K\t|A\t|11\t|27: KA|\n",
    "|A\t|K\t|1|28: AK|\n",
    "|KA|\tO|\t27|\t29: KAO|\n",
    "|O\t|\t|15\t|  |\n",
    "\n",
    "이 과정을 거쳐 다섯 글자의 문장 KAKAO가 4개의 색인 번호 [11, 1, 27, 15]로 압축된다.\n",
    "\n",
    "입력으로 TOBEORNOTTOBEORTOBEORNOT가 들어오면 다음과 같이 압축이 진행된다.\n",
    "\n",
    "|현재 입력(w)|\t다음 글자(c)|\t출력\t|사전 추가(w+c)|\n",
    "|-----------|--------------|---------|-----------|\n",
    "|T\t|O\t|20\t|27: TO|\n",
    "|O\t|B\t|15\t|28: OB|\n",
    "|B\t|E\t|2\t|29: BE|\n",
    "|E\t|O\t|5\t|30: EO|\n",
    "|O\t|R\t|15\t|31: OR|\n",
    "|R\t|N\t|18\t|32: RN|\n",
    "|N\t|O\t|14\t|33: NO|\n",
    "|O\t|T\t|15\t|34: OT|\n",
    "|T\t|T\t|20\t|35: TT|\n",
    "|TO\t|B\t|27\t|36: TOB|\n",
    "|BE\t|O\t|29\t|37: BEO|\n",
    "|OR\t|T\t|31\t|38: ORT|\n",
    "|TOB\t|E\t|36\t|39: TOBE|\n",
    "|EO\t|R\t|30\t|40: EOR|\n",
    "|RN\t|O\t|32\t|41: RNO|\n",
    "|OT\t|\t|34\t| |\n",
    "\n",
    "## 입력 형식\n",
    "입력으로 영문 대문자로만 이뤄진 문자열 msg가 주어진다. msg의 길이는 1 글자 이상, 1000 글자 이하이다.\n",
    "\n",
    "## 출력 형식\n",
    "주어진 문자열을 압축한 후의 사전 색인 번호를 배열로 출력하라.\n",
    "\n",
    "## 입출력 예제\n",
    "|msg|\tanswer|\n",
    "|--|-------|\n",
    "|KAKAO\t|[11, 1, 27, 15]|\n",
    "|TOBEORNOTTOBEORTOBEORNOT\t|[20, 15, 2, 5, 15, 18, 14, 15, 20, 27, 29, 31, 36, 30, 32, 34]|\n",
    "|ABABABABABABABAB\t|[1, 2, 27, 29, 28, 31, 30]|\n",
    "\n",
    "## 문제 풀이"
   ]
  },
  {
   "cell_type": "code",
   "execution_count": 335,
   "id": "retained-elephant",
   "metadata": {},
   "outputs": [],
   "source": [
    "class Dictionary_Maker(object):\n",
    "    def __init__(self, msg):\n",
    "        self.msg = msg\n",
    "        self.dictionary = {chr(c) : i+1 for i, c in enumerate(range(ord('A'), ord('Z')+1))}\n",
    "        self.word_list = list(self.dictionary.keys())\n",
    "    \n",
    "    def word_check(self, word):\n",
    "        return word in self.word_list \n",
    "    \n",
    "    def dict_append(self, w_c):\n",
    "        self.dictionary[len(self)+1] = w_c\n",
    "        self.word_list.append(w_c)\n",
    "    \n",
    "    def get_w(self, index):\n",
    "        index += 1\n",
    "        while 1:\n",
    "            if word_check(msg[self.index : index]) and (not word_check(msg[self.index : index + 1])):\n",
    "                return msg[self.index], index\n",
    "            index += 1\n",
    "    \n",
    "    def __iter__(self):\n",
    "        self.w = self.msg[0]\n",
    "        self.c = self.msg[1]\n",
    "        self.index = 1\n",
    "        return self\n",
    " \n",
    "    def __next__(self):\n",
    "        if len(self) <= self.index:\n",
    "            raise StopIteration\n",
    "    \n",
    "        if not self.word_check(self.w + self.c):\n",
    "            self.dict_append(self.w + self.c)\n",
    "            \n",
    "        self.w, self.index = self.get_w(self.index)\n",
    "        self.c = self.msg[self.index]\n",
    "        \n",
    "        return self.dictionary[self.w]\n",
    "    \n",
    "    def __len__(self):\n",
    "        return len(self.dictionary)"
   ]
  },
  {
   "cell_type": "code",
   "execution_count": 342,
   "id": "juvenile-abuse",
   "metadata": {},
   "outputs": [],
   "source": [
    "def solution(msg):\n",
    "    answer = []\n",
    "    msg = Dictionary_Maker(msg)\n",
    "    for word in msg:\n",
    "        print(word)\n",
    "        answer.append(word)\n",
    "    return answer"
   ]
  },
  {
   "cell_type": "code",
   "execution_count": 343,
   "id": "twelve-prompt",
   "metadata": {},
   "outputs": [
    {
     "name": "stdout",
     "output_type": "stream",
     "text": [
      "15\n",
      "5\n",
      "15\n",
      "18\n",
      "14\n",
      "15\n",
      "20\n",
      "20\n",
      "15\n",
      "5\n",
      "15\n",
      "18\n",
      "20\n",
      "15\n",
      "5\n",
      "15\n",
      "18\n",
      "14\n",
      "15\n"
     ]
    },
    {
     "ename": "KeyboardInterrupt",
     "evalue": "",
     "output_type": "error",
     "traceback": [
      "\u001b[1;31m---------------------------------------------------------------------------\u001b[0m",
      "\u001b[1;31mKeyboardInterrupt\u001b[0m                         Traceback (most recent call last)",
      "\u001b[1;32m<ipython-input-343-47add2e53d83>\u001b[0m in \u001b[0;36m<module>\u001b[1;34m\u001b[0m\n\u001b[0;32m      1\u001b[0m \u001b[0mmsg\u001b[0m \u001b[1;33m=\u001b[0m \u001b[1;34m'TOBEORNOTTOBEORTOBEORNOT'\u001b[0m\u001b[1;33m\u001b[0m\u001b[1;33m\u001b[0m\u001b[0m\n\u001b[1;32m----> 2\u001b[1;33m \u001b[0msolution\u001b[0m\u001b[1;33m(\u001b[0m\u001b[0mmsg\u001b[0m\u001b[1;33m)\u001b[0m\u001b[1;33m\u001b[0m\u001b[1;33m\u001b[0m\u001b[0m\n\u001b[0m",
      "\u001b[1;32m<ipython-input-342-ada7bf4423c3>\u001b[0m in \u001b[0;36msolution\u001b[1;34m(msg)\u001b[0m\n\u001b[0;32m      2\u001b[0m     \u001b[0manswer\u001b[0m \u001b[1;33m=\u001b[0m \u001b[1;33m[\u001b[0m\u001b[1;33m]\u001b[0m\u001b[1;33m\u001b[0m\u001b[1;33m\u001b[0m\u001b[0m\n\u001b[0;32m      3\u001b[0m     \u001b[0mmsg\u001b[0m \u001b[1;33m=\u001b[0m \u001b[0mDictionary_Maker\u001b[0m\u001b[1;33m(\u001b[0m\u001b[0mmsg\u001b[0m\u001b[1;33m)\u001b[0m\u001b[1;33m\u001b[0m\u001b[1;33m\u001b[0m\u001b[0m\n\u001b[1;32m----> 4\u001b[1;33m     \u001b[1;32mfor\u001b[0m \u001b[0mword\u001b[0m \u001b[1;32min\u001b[0m \u001b[0mmsg\u001b[0m\u001b[1;33m:\u001b[0m\u001b[1;33m\u001b[0m\u001b[1;33m\u001b[0m\u001b[0m\n\u001b[0m\u001b[0;32m      5\u001b[0m         \u001b[0mprint\u001b[0m\u001b[1;33m(\u001b[0m\u001b[0mword\u001b[0m\u001b[1;33m)\u001b[0m\u001b[1;33m\u001b[0m\u001b[1;33m\u001b[0m\u001b[0m\n\u001b[0;32m      6\u001b[0m         \u001b[0manswer\u001b[0m\u001b[1;33m.\u001b[0m\u001b[0mappend\u001b[0m\u001b[1;33m(\u001b[0m\u001b[0mword\u001b[0m\u001b[1;33m)\u001b[0m\u001b[1;33m\u001b[0m\u001b[1;33m\u001b[0m\u001b[0m\n",
      "\u001b[1;32m<ipython-input-335-d7fbe9fe9cdd>\u001b[0m in \u001b[0;36m__next__\u001b[1;34m(self)\u001b[0m\n\u001b[0;32m     32\u001b[0m             \u001b[0mself\u001b[0m\u001b[1;33m.\u001b[0m\u001b[0mdict_append\u001b[0m\u001b[1;33m(\u001b[0m\u001b[0mself\u001b[0m\u001b[1;33m.\u001b[0m\u001b[0mw\u001b[0m \u001b[1;33m+\u001b[0m \u001b[0mself\u001b[0m\u001b[1;33m.\u001b[0m\u001b[0mc\u001b[0m\u001b[1;33m)\u001b[0m\u001b[1;33m\u001b[0m\u001b[1;33m\u001b[0m\u001b[0m\n\u001b[0;32m     33\u001b[0m \u001b[1;33m\u001b[0m\u001b[0m\n\u001b[1;32m---> 34\u001b[1;33m         \u001b[0mself\u001b[0m\u001b[1;33m.\u001b[0m\u001b[0mw\u001b[0m\u001b[1;33m,\u001b[0m \u001b[0mself\u001b[0m\u001b[1;33m.\u001b[0m\u001b[0mindex\u001b[0m \u001b[1;33m=\u001b[0m \u001b[0mself\u001b[0m\u001b[1;33m.\u001b[0m\u001b[0mget_w\u001b[0m\u001b[1;33m(\u001b[0m\u001b[0mself\u001b[0m\u001b[1;33m.\u001b[0m\u001b[0mindex\u001b[0m\u001b[1;33m)\u001b[0m\u001b[1;33m\u001b[0m\u001b[1;33m\u001b[0m\u001b[0m\n\u001b[0m\u001b[0;32m     35\u001b[0m         \u001b[0mself\u001b[0m\u001b[1;33m.\u001b[0m\u001b[0mc\u001b[0m \u001b[1;33m=\u001b[0m \u001b[0mself\u001b[0m\u001b[1;33m.\u001b[0m\u001b[0mmsg\u001b[0m\u001b[1;33m[\u001b[0m\u001b[0mself\u001b[0m\u001b[1;33m.\u001b[0m\u001b[0mindex\u001b[0m\u001b[1;33m]\u001b[0m\u001b[1;33m\u001b[0m\u001b[1;33m\u001b[0m\u001b[0m\n\u001b[0;32m     36\u001b[0m \u001b[1;33m\u001b[0m\u001b[0m\n",
      "\u001b[1;32m<ipython-input-335-d7fbe9fe9cdd>\u001b[0m in \u001b[0;36mget_w\u001b[1;34m(self, index)\u001b[0m\n\u001b[0;32m     15\u001b[0m         \u001b[0mindex\u001b[0m \u001b[1;33m+=\u001b[0m \u001b[1;36m1\u001b[0m\u001b[1;33m\u001b[0m\u001b[1;33m\u001b[0m\u001b[0m\n\u001b[0;32m     16\u001b[0m         \u001b[1;32mwhile\u001b[0m \u001b[1;36m1\u001b[0m\u001b[1;33m:\u001b[0m\u001b[1;33m\u001b[0m\u001b[1;33m\u001b[0m\u001b[0m\n\u001b[1;32m---> 17\u001b[1;33m             \u001b[1;32mif\u001b[0m \u001b[0mword_check\u001b[0m\u001b[1;33m(\u001b[0m\u001b[0mmsg\u001b[0m\u001b[1;33m[\u001b[0m\u001b[0mself\u001b[0m\u001b[1;33m.\u001b[0m\u001b[0mindex\u001b[0m \u001b[1;33m:\u001b[0m \u001b[0mindex\u001b[0m\u001b[1;33m]\u001b[0m\u001b[1;33m)\u001b[0m \u001b[1;32mand\u001b[0m \u001b[1;33m(\u001b[0m\u001b[1;32mnot\u001b[0m \u001b[0mword_check\u001b[0m\u001b[1;33m(\u001b[0m\u001b[0mmsg\u001b[0m\u001b[1;33m[\u001b[0m\u001b[0mself\u001b[0m\u001b[1;33m.\u001b[0m\u001b[0mindex\u001b[0m \u001b[1;33m:\u001b[0m \u001b[0mindex\u001b[0m \u001b[1;33m+\u001b[0m \u001b[1;36m1\u001b[0m\u001b[1;33m]\u001b[0m\u001b[1;33m)\u001b[0m\u001b[1;33m)\u001b[0m\u001b[1;33m:\u001b[0m\u001b[1;33m\u001b[0m\u001b[1;33m\u001b[0m\u001b[0m\n\u001b[0m\u001b[0;32m     18\u001b[0m                 \u001b[1;32mreturn\u001b[0m \u001b[0mmsg\u001b[0m\u001b[1;33m[\u001b[0m\u001b[0mself\u001b[0m\u001b[1;33m.\u001b[0m\u001b[0mindex\u001b[0m\u001b[1;33m]\u001b[0m\u001b[1;33m,\u001b[0m \u001b[0mindex\u001b[0m\u001b[1;33m\u001b[0m\u001b[1;33m\u001b[0m\u001b[0m\n\u001b[0;32m     19\u001b[0m             \u001b[0mindex\u001b[0m \u001b[1;33m+=\u001b[0m \u001b[1;36m1\u001b[0m\u001b[1;33m\u001b[0m\u001b[1;33m\u001b[0m\u001b[0m\n",
      "\u001b[1;32m<ipython-input-310-ad0803ee37d0>\u001b[0m in \u001b[0;36mword_check\u001b[1;34m(word)\u001b[0m\n\u001b[0;32m     13\u001b[0m \u001b[1;32mdef\u001b[0m \u001b[0mword_check\u001b[0m\u001b[1;33m(\u001b[0m\u001b[0mword\u001b[0m\u001b[1;33m)\u001b[0m\u001b[1;33m:\u001b[0m\u001b[1;33m\u001b[0m\u001b[1;33m\u001b[0m\u001b[0m\n\u001b[0;32m     14\u001b[0m     \u001b[1;32mglobal\u001b[0m \u001b[0mdictionary\u001b[0m\u001b[1;33m,\u001b[0m \u001b[0mword_list\u001b[0m\u001b[1;33m\u001b[0m\u001b[1;33m\u001b[0m\u001b[0m\n\u001b[1;32m---> 15\u001b[1;33m     \u001b[1;32mreturn\u001b[0m \u001b[0mword\u001b[0m \u001b[1;32min\u001b[0m \u001b[0mword_list\u001b[0m\u001b[1;33m\u001b[0m\u001b[1;33m\u001b[0m\u001b[0m\n\u001b[0m\u001b[0;32m     16\u001b[0m \u001b[1;33m\u001b[0m\u001b[0m\n\u001b[0;32m     17\u001b[0m \u001b[1;32mdef\u001b[0m \u001b[0mget_w\u001b[0m\u001b[1;33m(\u001b[0m\u001b[0mindex\u001b[0m\u001b[1;33m)\u001b[0m\u001b[1;33m:\u001b[0m\u001b[1;33m\u001b[0m\u001b[1;33m\u001b[0m\u001b[0m\n",
      "\u001b[1;31mKeyboardInterrupt\u001b[0m: "
     ]
    }
   ],
   "source": [
    "msg = 'TOBEORNOTTOBEORTOBEORNOT'\n",
    "solution(msg)"
   ]
  }
 ],
 "metadata": {
  "kernelspec": {
   "display_name": "Python 3",
   "language": "python",
   "name": "python3"
  },
  "language_info": {
   "codemirror_mode": {
    "name": "ipython",
    "version": 3
   },
   "file_extension": ".py",
   "mimetype": "text/x-python",
   "name": "python",
   "nbconvert_exporter": "python",
   "pygments_lexer": "ipython3",
   "version": "3.7.6"
  },
  "toc": {
   "base_numbering": 1,
   "nav_menu": {},
   "number_sections": true,
   "sideBar": true,
   "skip_h1_title": true,
   "title_cell": "Table of Contents",
   "title_sidebar": "Contents",
   "toc_cell": false,
   "toc_position": {},
   "toc_section_display": true,
   "toc_window_display": false
  },
  "varInspector": {
   "cols": {
    "lenName": 16,
    "lenType": 16,
    "lenVar": 40
   },
   "kernels_config": {
    "python": {
     "delete_cmd_postfix": "",
     "delete_cmd_prefix": "del ",
     "library": "var_list.py",
     "varRefreshCmd": "print(var_dic_list())"
    },
    "r": {
     "delete_cmd_postfix": ") ",
     "delete_cmd_prefix": "rm(",
     "library": "var_list.r",
     "varRefreshCmd": "cat(var_dic_list()) "
    }
   },
   "types_to_exclude": [
    "module",
    "function",
    "builtin_function_or_method",
    "instance",
    "_Feature"
   ],
   "window_display": false
  }
 },
 "nbformat": 4,
 "nbformat_minor": 5
}
