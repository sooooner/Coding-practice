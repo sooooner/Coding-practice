{
 "cells": [
  {
   "cell_type": "markdown",
   "id": "stuffed-tiffany",
   "metadata": {},
   "source": [
    "# 압축\n",
    "신입사원 어피치는 카카오톡으로 전송되는 메시지를 압축하여 전송 효율을 높이는 업무를 맡게 되었다. 메시지를 압축하더라도 전달되는 정보가 바뀌어서는 안 되므로, 압축 전의 정보를 완벽하게 복원 가능한 무손실 압축 알고리즘을 구현하기로 했다.\n",
    "\n",
    "어피치는 여러 압축 알고리즘 중에서 성능이 좋고 구현이 간단한 LZW(Lempel–Ziv–Welch) 압축을 구현하기로 했다. LZW 압축은 1983년 발표된 알고리즘으로, 이미지 파일 포맷인 GIF 등 다양한 응용에서 사용되었다.\n",
    "\n",
    "LZW 압축은 다음 과정을 거친다.\n",
    "\n",
    "1. 길이가 1인 모든 단어를 포함하도록 사전을 초기화한다.\n",
    "1. 사전에서 현재 입력과 일치하는 가장 긴 문자열 w를 찾는다.\n",
    "1. w에 해당하는 사전의 색인 번호를 출력하고, 입력에서 w를 제거한다.\n",
    "1. 입력에서 처리되지 않은 다음 글자가 남아있다면(c), w+c에 해당하는 단어를 사전에 등록한다.\n",
    "1. 단계 2로 돌아간다.\n",
    "\n",
    "압축 알고리즘이 영문 대문자만 처리한다고 할 때, 사전은 다음과 같이 초기화된다. 사전의 색인 번호는 정수값으로 주어지며, 1부터 시작한다고 하자.\n",
    "\n",
    "|색인 번호|\t1|\t2\t|3|\t...|\t24\t|25\t|26|\n",
    "|---------|--|----|--|----|-------|---|--|\n",
    "|단어|\tA|\tB\t|C\t|...\t|X|\tY\t|Z|\n",
    "\n",
    "예를 들어 입력으로 KAKAO가 들어온다고 하자.\n",
    "\n",
    "1. 현재 사전에는 KAKAO의 첫 글자 K는 등록되어 있으나, 두 번째 글자까지인 KA는 없으므로, 첫 글자 K에 해당하는 색인 번호 11을 출력하고, 다음 글자인 A를 포함한 KA를 사전에 27 번째로 등록한다.\n",
    "1. 두 번째 글자 A는 사전에 있으나, 세 번째 글자까지인 AK는 사전에 없으므로, A의 색인 번호 1을 출력하고, AK를 사전에 28 번째로 등록한다.\n",
    "1. 세 번째 글자에서 시작하는 KA가 사전에 있으므로, KA에 해당하는 색인 번호 27을 출력하고, 다음 글자 O를 포함한 KAO를 29 번째로 등록한다.\n",
    "1. 마지막으로 처리되지 않은 글자 O에 해당하는 색인 번호 15를 출력한다.\n",
    "\n",
    "|현재 입력(w)|\t다음 글자(c)\t|출력\t|사전 추가(w+c)|\n",
    "|--------|------------|------|---------|\n",
    "|K\t|A\t|11\t|27: KA|\n",
    "|A\t|K\t|1|28: AK|\n",
    "|KA|\tO|\t27|\t29: KAO|\n",
    "|O\t|\t|15\t|  |\n",
    "\n",
    "이 과정을 거쳐 다섯 글자의 문장 KAKAO가 4개의 색인 번호 [11, 1, 27, 15]로 압축된다.\n",
    "\n",
    "입력으로 TOBEORNOTTOBEORTOBEORNOT가 들어오면 다음과 같이 압축이 진행된다.\n",
    "\n",
    "|현재 입력(w)|\t다음 글자(c)|\t출력\t|사전 추가(w+c)|\n",
    "|-----------|--------------|---------|-----------|\n",
    "|T\t|O\t|20\t|27: TO|\n",
    "|O\t|B\t|15\t|28: OB|\n",
    "|B\t|E\t|2\t|29: BE|\n",
    "|E\t|O\t|5\t|30: EO|\n",
    "|O\t|R\t|15\t|31: OR|\n",
    "|R\t|N\t|18\t|32: RN|\n",
    "|N\t|O\t|14\t|33: NO|\n",
    "|O\t|T\t|15\t|34: OT|\n",
    "|T\t|T\t|20\t|35: TT|\n",
    "|TO\t|B\t|27\t|36: TOB|\n",
    "|BE\t|O\t|29\t|37: BEO|\n",
    "|OR\t|T\t|31\t|38: ORT|\n",
    "|TOB\t|E\t|36\t|39: TOBE|\n",
    "|EO\t|R\t|30\t|40: EOR|\n",
    "|RN\t|O\t|32\t|41: RNO|\n",
    "|OT\t|\t|34\t| |\n",
    "\n",
    "## 입력 형식\n",
    "입력으로 영문 대문자로만 이뤄진 문자열 msg가 주어진다. msg의 길이는 1 글자 이상, 1000 글자 이하이다.\n",
    "\n",
    "## 출력 형식\n",
    "주어진 문자열을 압축한 후의 사전 색인 번호를 배열로 출력하라.\n",
    "\n",
    "## 입출력 예제\n",
    "|msg|\tanswer|\n",
    "|--|-------|\n",
    "|KAKAO\t|[11, 1, 27, 15]|\n",
    "|TOBEORNOTTOBEORTOBEORNOT\t|[20, 15, 2, 5, 15, 18, 14, 15, 20, 27, 29, 31, 36, 30, 32, 34]|\n",
    "|ABABABABABABABAB\t|[1, 2, 27, 29, 28, 31, 30]|\n",
    "\n",
    "## 문제 풀이\n",
    "+ while문으로 dict추가하면서 iter하면 후딱 하는데 뭔가 class iter에 꽂혀서 오래 걸림ㅠ"
   ]
  },
  {
   "cell_type": "code",
   "execution_count": 19,
   "id": "polish-seating",
   "metadata": {},
   "outputs": [],
   "source": [
    "class Dictionary_Maker(object):\n",
    "    def __init__(self, msg):\n",
    "        self.msg = msg\n",
    "        self.dictionary = {chr(c) : i+1 for i, c in enumerate(range(ord('A'), ord('Z')+1))}\n",
    "        self.word_list = list(self.dictionary.keys())\n",
    "    \n",
    "    def word_check(self, word):\n",
    "        return word in self.word_list \n",
    "    \n",
    "    def dict_append(self, w_c):\n",
    "        self.dictionary[w_c] = len(self)+1\n",
    "        self.word_list.append(w_c)\n",
    "    \n",
    "    def get_w(self, index):\n",
    "        index += 1\n",
    "        while 1:\n",
    "            if self.word_check(self.msg[self.index : index]) and (not self.word_check(self.msg[self.index : index + 1])):\n",
    "                return self.msg[self.index : index], index\n",
    "            elif index > len(self.msg):\n",
    "                return self.msg[self.index : index-1], index\n",
    "            index += 1\n",
    "    \n",
    "    def __iter__(self):\n",
    "        self.w = self.msg[0]\n",
    "        self.index = 0\n",
    "        try:\n",
    "            self.c = self.msg[1]\n",
    "        except IndexError:\n",
    "            pass\n",
    "        return self\n",
    " \n",
    "    def __next__(self):\n",
    "        if self.index == 0:\n",
    "            self.index += 1\n",
    "            return self.dictionary[self.w] \n",
    "        \n",
    "        if len(self.msg) <= self.index:\n",
    "            raise StopIteration\n",
    "            \n",
    "        if not self.word_check(self.w + self.c):\n",
    "            self.dict_append(self.w + self.c)\n",
    "            \n",
    "        self.w, self.index = self.get_w(self.index)\n",
    "        \n",
    "        try:\n",
    "            self.c = self.msg[self.index]\n",
    "        except IndexError:\n",
    "            pass\n",
    "            \n",
    "        return self.dictionary[self.w]\n",
    "    \n",
    "    def __len__(self):\n",
    "        return len(self.dictionary)"
   ]
  },
  {
   "cell_type": "code",
   "execution_count": 20,
   "id": "reasonable-recycling",
   "metadata": {},
   "outputs": [],
   "source": [
    "def solution(msg):\n",
    "    answer = []\n",
    "    msg = Dictionary_Maker(msg)\n",
    "    for word in msg:\n",
    "        answer.append(word)\n",
    "    return answer"
   ]
  },
  {
   "cell_type": "code",
   "execution_count": 21,
   "id": "attempted-wedding",
   "metadata": {},
   "outputs": [
    {
     "data": {
      "text/plain": [
       "[20, 15, 2, 5, 15, 18, 14, 15, 20, 27, 29, 31, 36, 30, 32, 34]"
      ]
     },
     "execution_count": 21,
     "metadata": {},
     "output_type": "execute_result"
    }
   ],
   "source": [
    "msg = 'TOBEORNOTTOBEORTOBEORNOT'\n",
    "solution(msg)"
   ]
  },
  {
   "cell_type": "code",
   "execution_count": 22,
   "id": "related-musician",
   "metadata": {},
   "outputs": [
    {
     "data": {
      "text/plain": [
       "[1]"
      ]
     },
     "execution_count": 22,
     "metadata": {},
     "output_type": "execute_result"
    }
   ],
   "source": [
    "msg = 'A'\n",
    "solution(msg)"
   ]
  },
  {
   "cell_type": "code",
   "execution_count": 23,
   "id": "vanilla-knight",
   "metadata": {
    "scrolled": false
   },
   "outputs": [
    {
     "name": "stdout",
     "output_type": "stream",
     "text": [
      "THATTHATISISTHATTHATISNOTISNOTISTHATITITISTHATTHATISISTHATTHATISNOTISNOTISTHATITITISTHATTHATISISTHATTHATISNOTISNOTISTHATITITISTHATTHATISISTHATTHATISNOTISNOTISTHATITITISTHATTHATISISTHATTHATISNOTISNOTISTHATITITISTHATTHATISISTHATTHATISNOTISNOTISTHATITITISTHATTHATISISTHATTHATISNOTISNOTISTHATITITISTHATTHATISISTHATTHATISNOTISNOTISTHATITITISTHATTHATISISTHATTHATISNOTISNOTISTHATITITISTHATTHATISISTHATTHATISNOTISNOTISTHATITITISTHATTHATISISTHATTHATISNOTISNOTISTHATITITISTHATTHATISISTHATTHATISNOTISNOTISTHATITITISTHATTHATISISTHATTHATISNOTISNOTISTHATITITISTHATTHATISISTHATTHATISNOTISNOTISTHATITITISTHATTHATISISTHATTHATISNOTISNOTISTHATITITISTHATTHATISISTHATTHATISNOTISNOTISTHATITITISTHATTHATISISTHATTHATISNOTISNOTISTHATITITISTHATTHATISISTHATTHATISNOTISNOTISTHATITITISTHATTHATISISTHATTHATISNOTISNOTISTHATITITISTHATTHATISISTHATTHATISNOTISNOTISTHATITITISTHATTHATISISTHATTHATISNOTISNOTISTHATITITISTHATTHATISISTHATTHATISNOTISNOTISTHATITITISTHATTHATISISTHATTHATISNOTISNOTISTHATITITIS\n",
      "[20, 8, 1, 20, 27, 29, 9, 19, 33, 31, 30, 28, 20, 33, 14, 15, 39, 19, 41, 43, 36, 9, 39, 46, 38, 47, 34, 19, 36, 52, 45, 40, 42, 35, 38, 48, 62, 54, 51, 61, 53, 55, 66, 57, 44, 59, 64, 32, 49, 60, 29, 52, 76, 37, 32, 71, 43, 70, 47, 75, 73, 80, 43, 79, 56, 72, 84, 61, 86, 68, 81, 90, 69, 92, 72, 85, 63, 96, 89, 87, 91, 83, 101, 94, 103, 65, 97, 106, 99, 108, 50, 74, 111, 77, 66, 98, 81, 70, 93, 118, 117, 88, 33, 122, 116, 58, 127, 62, 127, 78, 114, 123, 100, 133, 95, 112, 105, 104, 132, 145, 87, 134, 130, 129, 137, 131, 82, 79, 148, 151, 150, 144, 153, 159, 102, 135, 121, 156, 159, 125, 75, 162, 113, 158, 124, 109, 126, 149, 67, 142, 146, 166, 155, 158, 174, 171, 140, 119, 128, 175, 120, 138, 152, 161, 174, 181, 139, 154, 141, 187, 143, 176, 165, 172, 167, 191, 164, 182, 194, 184, 136, 170, 193, 147, 86]\n"
     ]
    }
   ],
   "source": [
    "msg = 'THATTHATISISTHATTHATISNOTISNOTISTHATITITISTHATTHATISISTHATTHATISNOTISNOTISTHATITITISTHATTHATISISTHATTHATISNOTISNOTISTHATITITISTHATTHATISISTHATTHATISNOTISNOTISTHATITITISTHATTHATISISTHATTHATISNOTISNOTISTHATITITISTHATTHATISISTHATTHATISNOTISNOTISTHATITITISTHATTHATISISTHATTHATISNOTISNOTISTHATITITISTHATTHATISISTHATTHATISNOTISNOTISTHATITITISTHATTHATISISTHATTHATISNOTISNOTISTHATITITISTHATTHATISISTHATTHATISNOTISNOTISTHATITITISTHATTHATISISTHATTHATISNOTISNOTISTHATITITISTHATTHATISISTHATTHATISNOTISNOTISTHATITITISTHATTHATISISTHATTHATISNOTISNOTISTHATITITISTHATTHATISISTHATTHATISNOTISNOTISTHATITITISTHATTHATISISTHATTHATISNOTISNOTISTHATITITISTHATTHATISISTHATTHATISNOTISNOTISTHATITITISTHATTHATISISTHATTHATISNOTISNOTISTHATITITISTHATTHATISISTHATTHATISNOTISNOTISTHATITITISTHATTHATISISTHATTHATISNOTISNOTISTHATITITISTHATTHATISISTHATTHATISNOTISNOTISTHATITITISTHATTHATISISTHATTHATISNOTISNOTISTHATITITISTHATTHATISISTHATTHATISNOTISNOTISTHATITITISTHATTHATISISTHATTHATISNOTISNOTISTHATITITIS'\n",
    "print(msg)\n",
    "print(solution(msg))"
   ]
  },
  {
   "cell_type": "code",
   "execution_count": null,
   "id": "lightweight-america",
   "metadata": {},
   "outputs": [],
   "source": []
  }
 ],
 "metadata": {
  "kernelspec": {
   "display_name": "Python 3",
   "language": "python",
   "name": "python3"
  },
  "language_info": {
   "codemirror_mode": {
    "name": "ipython",
    "version": 3
   },
   "file_extension": ".py",
   "mimetype": "text/x-python",
   "name": "python",
   "nbconvert_exporter": "python",
   "pygments_lexer": "ipython3",
   "version": "3.7.6"
  },
  "toc": {
   "base_numbering": 1,
   "nav_menu": {},
   "number_sections": true,
   "sideBar": true,
   "skip_h1_title": true,
   "title_cell": "Table of Contents",
   "title_sidebar": "Contents",
   "toc_cell": false,
   "toc_position": {},
   "toc_section_display": true,
   "toc_window_display": false
  },
  "varInspector": {
   "cols": {
    "lenName": 16,
    "lenType": 16,
    "lenVar": 40
   },
   "kernels_config": {
    "python": {
     "delete_cmd_postfix": "",
     "delete_cmd_prefix": "del ",
     "library": "var_list.py",
     "varRefreshCmd": "print(var_dic_list())"
    },
    "r": {
     "delete_cmd_postfix": ") ",
     "delete_cmd_prefix": "rm(",
     "library": "var_list.r",
     "varRefreshCmd": "cat(var_dic_list()) "
    }
   },
   "types_to_exclude": [
    "module",
    "function",
    "builtin_function_or_method",
    "instance",
    "_Feature"
   ],
   "window_display": false
  }
 },
 "nbformat": 4,
 "nbformat_minor": 5
}
