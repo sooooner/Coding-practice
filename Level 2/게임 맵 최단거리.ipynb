{
 "cells": [
  {
   "cell_type": "markdown",
   "id": "scheduled-eligibility",
   "metadata": {},
   "source": [
    "# 게임 맵 최단거리\n",
    "## 문제 설명\n",
    "ROR 게임은 두 팀으로 나누어서 진행하며, 상대 팀 진영을 먼저 파괴하면 이기는 게임입니다. 따라서, 각 팀은 상대 팀 진영에 최대한 빨리 도착하는 것이 유리합니다.\n",
    "\n",
    "지금부터 당신은 한 팀의 팀원이 되어 게임을 진행하려고 합니다. 다음은 5 x 5 크기의 맵에, 당신의 캐릭터가 (행: 1, 열: 1) 위치에 있고, 상대 팀 진영은 (행: 5, 열: 5) 위치에 있는 경우의 예시입니다.\n",
    "\n",
    "![최단거리1_sxuruo.png](https://grepp-programmers.s3.ap-northeast-2.amazonaws.com/files/production/dc3a1b49-13d3-4047-b6f8-6cc40b2702a7/%E1%84%8E%E1%85%AC%E1%84%83%E1%85%A1%E1%86%AB%E1%84%80%E1%85%A5%E1%84%85%E1%85%B51_sxuruo.png)\n",
    "\n",
    "위 그림에서 검은색 부분은 벽으로 막혀있어 갈 수 없는 길이며, 흰색 부분은 갈 수 있는 길입니다. 캐릭터가 움직일 때는 동, 서, 남, 북 방향으로 한 칸씩 이동하며, 게임 맵을 벗어난 길은 갈 수 없습니다.\n",
    "아래 예시는 캐릭터가 상대 팀 진영으로 가는 두 가지 방법을 나타내고 있습니다.\n",
    "\n",
    "+ 첫 번째 방법은 11개의 칸을 지나서 상대 팀 진영에 도착했습니다.\n",
    "\n",
    "![최단거리2_sxuruo.png](https://grepp-programmers.s3.ap-northeast-2.amazonaws.com/files/production/9d909e5a-ca95-4088-9df9-d84cb804b2b0/%E1%84%8E%E1%85%AC%E1%84%83%E1%85%A1%E1%86%AB%E1%84%80%E1%85%A5%E1%84%85%E1%85%B52_hnjd3b.png)\n",
    "\n",
    "\n",
    "+ 두 번째 방법은 15개의 칸을 지나서 상대팀 진영에 도착했습니다.\n",
    "\n",
    "![최단거리3_sxuruo.png](https://grepp-programmers.s3.ap-northeast-2.amazonaws.com/files/production/4b7cd629-a3c2-4e02-b748-a707211131de/%E1%84%8E%E1%85%AC%E1%84%83%E1%85%A1%E1%86%AB%E1%84%80%E1%85%A5%E1%84%85%E1%85%B53_ntxygd.png)\n",
    "\n",
    "\n",
    "위 예시에서는 첫 번째 방법보다 더 빠르게 상대팀 진영에 도착하는 방법은 없으므로, 이 방법이 상대 팀 진영으로 가는 가장 빠른 방법입니다.\n",
    "\n",
    "만약, 상대 팀이 자신의 팀 진영 주위에 벽을 세워두었다면 상대 팀 진영에 도착하지 못할 수도 있습니다. 예를 들어, 다음과 같은 경우에 당신의 캐릭터는 상대 팀 진영에 도착할 수 없습니다.\n",
    "\n",
    "![최단거리4_sxuruo.png](https://grepp-programmers.s3.ap-northeast-2.amazonaws.com/files/production/d963b4bd-12e5-45da-9ca7-549e453d58a9/%E1%84%8E%E1%85%AC%E1%84%83%E1%85%A1%E1%86%AB%E1%84%80%E1%85%A5%E1%84%85%E1%85%B54_of9xfg.png)\n",
    "\n",
    "\n",
    "게임 맵의 상태 maps가 매개변수로 주어질 때, 캐릭터가 상대 팀 진영에 도착하기 위해서 지나가야 하는 칸의 개수의 최솟값을 return 하도록 solution 함수를 완성해주세요. 단, 상대 팀 진영에 도착할 수 없을 때는 -1을 return 해주세요.\n",
    "\n",
    "## 제한사항\n",
    "+ maps는 n x m 크기의 게임 맵의 상태가 들어있는 2차원 배열로, n과 m은 각각 1 이상 100 이하의 자연수입니다.\n",
    "+ n과 m은 서로 같을 수도, 다를 수도 있지만, n과 m이 모두 1인 경우는 입력으로 주어지지 않습니다.\n",
    "+ maps는 0과 1로만 이루어져 있으며, 0은 벽이 있는 자리, 1은 벽이 없는 자리를 나타냅니다.\n",
    "+ 처음에 캐릭터는 게임 맵의 좌측 상단인 (1, 1) 위치에 있으며, 상대방 진영은 게임 맵의 우측 하단인 (n, m) 위치에 있습니다.\n",
    "\n",
    "## 입출력 예\n",
    "\n",
    "|maps|\tanswer|\n",
    "|----|--------|\n",
    "|[[1,0,1,1,1],[1,0,1,0,1],[1,0,1,1,1],[1,1,1,0,1],[0,0,0,0,1]]\t|11|\n",
    "|[[1,0,1,1,1],[1,0,1,0,1],[1,0,1,1,1],[1,1,1,0,0],[0,0,0,0,1]]|\t-1|\n",
    "\n",
    "### 입출력 예 설명\n",
    "#### 입출력 예 #1\n",
    "주어진 데이터는 다음과 같습니다.\n",
    "\n",
    "![최단거리5_sxuruo.png](https://grepp-programmers.s3.ap-northeast-2.amazonaws.com/files/production/6db71f7f-58d3-4623-9fab-7cd99fa863a5/%E1%84%8E%E1%85%AC%E1%84%83%E1%85%A1%E1%86%AB%E1%84%80%E1%85%A5%E1%84%85%E1%85%B56_lgjvrb.png)\n",
    "\n",
    "\n",
    "캐릭터가 적 팀의 진영까지 이동하는 가장 빠른 길은 다음 그림과 같습니다.\n",
    "\n",
    "![최단거리6_sxuruo.png](https://grepp-programmers.s3.ap-northeast-2.amazonaws.com/files/production/d223d017-b3e2-4772-9045-a565133d45ff/%E1%84%8E%E1%85%AC%E1%84%83%E1%85%A1%E1%86%AB%E1%84%80%E1%85%A5%E1%84%85%E1%85%B52_hnjd3b%20%281%29.png)\n",
    "\n",
    "\n",
    "따라서 총 11칸을 캐릭터가 지나갔으므로 11을 return 하면 됩니다.\n",
    "\n",
    "#### 입출력 예 #2\n",
    "문제의 예시와 같으며, 상대 팀 진영에 도달할 방법이 없습니다. 따라서 -1을 return 합니다.\n",
    "\n",
    "## 문제 풀이"
   ]
  },
  {
   "cell_type": "code",
   "execution_count": null,
   "id": "dominant-eleven",
   "metadata": {},
   "outputs": [],
   "source": [
    "from collections import deque\n",
    "\n",
    "def bfs(start, maps):\n",
    "    dirs = [(0,1),(1,0),(0,-1),(-1,0)]\n",
    "    queue = deque()\n",
    "    queue.append(start)\n",
    "    while queue:\n",
    "        y, x, cnt = queue.popleft()\n",
    "        maps[y][x] = 0\n",
    "        for dy, dx in dirs:\n",
    "            ny, nx = y + dy, x + dx\n",
    "            \n",
    "            # 현재 위치에서 다음 위치로 이동했을 때 목적지면, \n",
    "            # 지금까지의 count + 1을 반환한다.\n",
    "            if ny == len(maps)-1 and nx == len(maps[0])-1:\n",
    "                return cnt + 1\n",
    "            \n",
    "            # visited 사용할 필요 없이, 한번 온 길을 다시 돌아갈 수 없게\n",
    "            # maps의 해당 좌표값을 0으로 만들면 된다.\n",
    "            elif 0 <= ny < len(maps) and 0 <= nx < len(maps[0]) and maps[ny][nx] == 1:\n",
    "                maps[ny][nx] = 0\n",
    "                queue.append((ny, nx, cnt+1))\n",
    "            \n",
    "    return -1    \n",
    "    \n",
    "def solution(maps):\n",
    "    return bfs((0,0,1), maps)"
   ]
  },
  {
   "cell_type": "code",
   "execution_count": 280,
   "id": "universal-formation",
   "metadata": {},
   "outputs": [
    {
     "data": {
      "text/plain": [
       "12"
      ]
     },
     "execution_count": 280,
     "metadata": {},
     "output_type": "execute_result"
    }
   ],
   "source": [
    "maps = [[1, 0, 1, 1, 1], [1, 0, 1, 0, 1], [1, 0, 1, 1, 1], [1, 1, 1, 0, 1], [0, 0, 0, 0, 1], [0, 0, 0, 0, 1]]\n",
    "\n",
    "solution(maps)"
   ]
  },
  {
   "cell_type": "code",
   "execution_count": null,
   "id": "ancient-stereo",
   "metadata": {},
   "outputs": [],
   "source": []
  },
  {
   "cell_type": "code",
   "execution_count": 217,
   "id": "assigned-natural",
   "metadata": {},
   "outputs": [
    {
     "data": {
      "text/plain": [
       "[[1, 0, 1, 1, 1],\n",
       " [1, 0, 1, 0, 1],\n",
       " [1, 0, 1, 1, 1],\n",
       " [1, 1, 1, 0, 1],\n",
       " [0, 0, 0, 0, 1],\n",
       " [0, 0, 0, 0, 1],\n",
       " [0, 0, 0, 0, 1]]"
      ]
     },
     "execution_count": 217,
     "metadata": {},
     "output_type": "execute_result"
    }
   ],
   "source": [
    "maps = [[1, 0, 1, 1, 1], [1, 0, 1, 0, 1], [1, 0, 1, 1, 1], [1, 1, 1, 0, 1], [0, 0, 0, 0, 1], [0, 0, 0, 0, 1], [0, 0, 0, 0, 1]]\n",
    "\n",
    "dirs = [(0,1),(1,0),(0,-1),(-1,0)]\n",
    "x, y, cnt = 0, 0, 1\n",
    "q = deque([(0, 0, 1)])\n",
    "target = len(maps[0]), len(maps)\n",
    "maps"
   ]
  },
  {
   "cell_type": "code",
   "execution_count": 316,
   "id": "front-adult",
   "metadata": {},
   "outputs": [
    {
     "name": "stdout",
     "output_type": "stream",
     "text": [
      "deque([])\n",
      "deque([])\n",
      "deque([(1, 0, 2)])\n",
      "deque([(1, 0, 2)])\n",
      "deque([])\n",
      "deque([])\n",
      "deque([(2, 0, 3)])\n",
      "deque([(2, 0, 3)])\n",
      "deque([(0, 0, 3)])\n",
      "deque([(0, 0, 3)])\n",
      "deque([(0, 0, 3), (3, 0, 4)])\n",
      "deque([(0, 0, 3), (3, 0, 4)])\n",
      "deque([(3, 0, 4)])\n",
      "deque([(3, 0, 4)])\n",
      "deque([(3, 0, 4)])\n",
      "deque([(3, 0, 4)])\n",
      "deque([])\n",
      "deque([(3, 1, 5)])\n",
      "deque([(3, 1, 5)])\n",
      "deque([(3, 1, 5)])\n",
      "deque([])\n",
      "deque([(3, 2, 6)])\n",
      "deque([(3, 2, 6)])\n",
      "deque([(3, 2, 6)])\n",
      "deque([])\n",
      "deque([])\n",
      "deque([])\n",
      "deque([])\n",
      "deque([])\n",
      "deque([(2, 3, 8)])\n",
      "deque([(2, 3, 8)])\n",
      "deque([(2, 3, 8)])\n",
      "deque([(1, 2, 8)])\n",
      "deque([(1, 2, 8), (2, 4, 9)])\n",
      "deque([(1, 2, 8), (2, 4, 9)])\n",
      "deque([(1, 2, 8), (2, 4, 9)])\n",
      "deque([(2, 4, 9)])\n",
      "deque([(2, 4, 9)])\n",
      "deque([(2, 4, 9)])\n",
      "deque([(2, 4, 9)])\n",
      "deque([(0, 2, 9)])\n",
      "deque([(0, 2, 9), (3, 4, 10)])\n",
      "deque([(0, 2, 9), (3, 4, 10)])\n",
      "deque([(3, 4, 10), (1, 4, 10)])\n",
      "deque([(3, 4, 10), (1, 4, 10), (0, 3, 10)])\n",
      "deque([(3, 4, 10), (1, 4, 10), (0, 3, 10)])\n",
      "deque([(3, 4, 10), (1, 4, 10), (0, 3, 10)])\n",
      "deque([(1, 4, 10), (0, 3, 10)])\n",
      "deque([(1, 4, 10), (0, 3, 10), (4, 4, 11)])\n",
      "deque([(1, 4, 10), (0, 3, 10), (4, 4, 11)])\n",
      "deque([(0, 3, 10), (4, 4, 11)])\n",
      "deque([(0, 3, 10), (4, 4, 11)])\n",
      "deque([(0, 3, 10), (4, 4, 11)])\n",
      "deque([(4, 4, 11), (0, 4, 11)])\n",
      "deque([(4, 4, 11), (0, 4, 11)])\n",
      "deque([(4, 4, 11), (0, 4, 11)])\n",
      "deque([(4, 4, 11), (0, 4, 11)])\n",
      "deque([(0, 4, 11)])\n",
      "11\n",
      "deque([])\n",
      "deque([])\n"
     ]
    },
    {
     "data": {
      "text/plain": [
       "[[0, 0, 0, 0, 0],\n",
       " [0, 0, 0, 0, 0],\n",
       " [0, 0, 0, 0, 0],\n",
       " [0, 0, 0, 0, 0],\n",
       " [0, 0, 0, 0, 0],\n",
       " [0, 0, 0, 0, 1]]"
      ]
     },
     "execution_count": 316,
     "metadata": {},
     "output_type": "execute_result"
    }
   ],
   "source": [
    "# maps = [[1, 0, 1, 1, 1], [1, 0, 1, 0, 1], [1, 0, 1, 1, 1], [1, 1, 1, 0, 1], [0, 0, 0, 0, 1], [0, 0, 0, 0, 1], [0, 0, 0, 0, 1]]\n",
    "maps = [[1, 0, 1, 1, 1], [1, 0, 1, 0, 1], [1, 0, 1, 1, 1], [1, 1, 1, 0, 1], [0, 0, 0, 0, 1], [0, 0, 0, 0, 1]]\n",
    "dirs = [(0,1),(1,0),(0,-1),(-1,0)]\n",
    "x, y, cnt = 0, 0, 1\n",
    "q = deque([(x, y, cnt)])\n",
    "target = len(maps[0]), len(maps)\n",
    "\n",
    "while q:\n",
    "    x, y, cnt = q.popleft()\n",
    "    for dx, dy in dirs:\n",
    "        if x + dx >= target[1] or y + dy >= target[0]:\n",
    "            continue\n",
    "        print(q)\n",
    "        if (x + dx == target[1]-1) and (y + dy == target[0]-1):\n",
    "            print(q.popleft()[2])\n",
    "        elif maps[x + dx][y + dy] == 1 and (x + dx >= 0 and y + dy >= 0):\n",
    "            q.append((x + dx, y + dy, cnt+1))\n",
    "            maps[x + dx][y + dy] = 0\n",
    "maps"
   ]
  },
  {
   "cell_type": "code",
   "execution_count": null,
   "id": "present-cargo",
   "metadata": {},
   "outputs": [],
   "source": []
  },
  {
   "cell_type": "code",
   "execution_count": 317,
   "id": "ongoing-fabric",
   "metadata": {},
   "outputs": [
    {
     "name": "stdout",
     "output_type": "stream",
     "text": [
      "deque([])\n",
      "deque([])\n",
      "deque([(1, 0, 2)])\n",
      "deque([(1, 0, 2)])\n",
      "deque([])\n",
      "deque([])\n",
      "deque([(2, 0, 3)])\n",
      "deque([(2, 0, 3)])\n",
      "deque([(0, 0, 3)])\n",
      "deque([(0, 0, 3)])\n",
      "deque([(0, 0, 3), (3, 0, 4)])\n",
      "deque([(0, 0, 3), (3, 0, 4)])\n",
      "deque([(3, 0, 4)])\n",
      "deque([(3, 0, 4)])\n",
      "deque([(3, 0, 4)])\n",
      "deque([(3, 0, 4)])\n",
      "deque([])\n",
      "deque([(3, 1, 5)])\n",
      "deque([(3, 1, 5)])\n",
      "deque([(3, 1, 5)])\n",
      "deque([])\n",
      "deque([(3, 2, 6)])\n",
      "deque([(3, 2, 6)])\n",
      "deque([(3, 2, 6)])\n",
      "deque([])\n",
      "deque([])\n",
      "deque([])\n",
      "deque([])\n",
      "deque([])\n",
      "deque([(2, 3, 8)])\n",
      "deque([(2, 3, 8)])\n",
      "deque([(2, 3, 8)])\n",
      "deque([(1, 2, 8)])\n",
      "deque([(1, 2, 8), (2, 4, 9)])\n",
      "deque([(1, 2, 8), (2, 4, 9)])\n",
      "deque([(1, 2, 8), (2, 4, 9)])\n",
      "deque([(2, 4, 9)])\n",
      "deque([(2, 4, 9)])\n",
      "deque([(2, 4, 9)])\n",
      "deque([(2, 4, 9)])\n",
      "deque([(0, 2, 9)])\n",
      "deque([(0, 2, 9), (3, 4, 10)])\n",
      "deque([(0, 2, 9), (3, 4, 10)])\n",
      "deque([(3, 4, 10), (1, 4, 10)])\n",
      "deque([(3, 4, 10), (1, 4, 10), (0, 3, 10)])\n",
      "deque([(3, 4, 10), (1, 4, 10), (0, 3, 10)])\n",
      "deque([(3, 4, 10), (1, 4, 10), (0, 3, 10)])\n",
      "deque([(1, 4, 10), (0, 3, 10)])\n",
      "deque([(1, 4, 10), (0, 3, 10), (4, 4, 11)])\n",
      "deque([(1, 4, 10), (0, 3, 10), (4, 4, 11)])\n",
      "deque([(0, 3, 10), (4, 4, 11)])\n",
      "deque([(0, 3, 10), (4, 4, 11)])\n",
      "deque([(0, 3, 10), (4, 4, 11)])\n",
      "deque([(4, 4, 11), (0, 4, 11)])\n",
      "deque([(4, 4, 11), (0, 4, 11)])\n",
      "deque([(4, 4, 11), (0, 4, 11)])\n",
      "deque([(4, 4, 11), (0, 4, 11)])\n",
      "deque([(0, 4, 11)])\n",
      "deque([(0, 4, 11), (5, 4, 12)])\n",
      "deque([(0, 4, 11), (5, 4, 12)])\n",
      "deque([(5, 4, 12)])\n",
      "deque([(5, 4, 12)])\n",
      "deque([(5, 4, 12)])\n",
      "deque([])\n"
     ]
    },
    {
     "ename": "IndexError",
     "evalue": "pop from an empty deque",
     "output_type": "error",
     "traceback": [
      "\u001b[1;31m---------------------------------------------------------------------------\u001b[0m",
      "\u001b[1;31mIndexError\u001b[0m                                Traceback (most recent call last)",
      "\u001b[1;32m<ipython-input-317-407b6f4e0689>\u001b[0m in \u001b[0;36m<module>\u001b[1;34m\u001b[0m\n\u001b[0;32m     13\u001b[0m         \u001b[0mprint\u001b[0m\u001b[1;33m(\u001b[0m\u001b[0mq\u001b[0m\u001b[1;33m)\u001b[0m\u001b[1;33m\u001b[0m\u001b[1;33m\u001b[0m\u001b[0m\n\u001b[0;32m     14\u001b[0m         \u001b[1;32mif\u001b[0m \u001b[1;33m(\u001b[0m\u001b[0mx\u001b[0m \u001b[1;33m+\u001b[0m \u001b[0mdx\u001b[0m \u001b[1;33m==\u001b[0m \u001b[0mtarget\u001b[0m\u001b[1;33m[\u001b[0m\u001b[1;36m1\u001b[0m\u001b[1;33m]\u001b[0m\u001b[1;33m-\u001b[0m\u001b[1;36m1\u001b[0m\u001b[1;33m)\u001b[0m \u001b[1;32mand\u001b[0m \u001b[1;33m(\u001b[0m\u001b[0my\u001b[0m \u001b[1;33m+\u001b[0m \u001b[0mdy\u001b[0m \u001b[1;33m==\u001b[0m \u001b[0mtarget\u001b[0m\u001b[1;33m[\u001b[0m\u001b[1;36m0\u001b[0m\u001b[1;33m]\u001b[0m\u001b[1;33m-\u001b[0m\u001b[1;36m1\u001b[0m\u001b[1;33m)\u001b[0m\u001b[1;33m:\u001b[0m\u001b[1;33m\u001b[0m\u001b[1;33m\u001b[0m\u001b[0m\n\u001b[1;32m---> 15\u001b[1;33m             \u001b[0mprint\u001b[0m\u001b[1;33m(\u001b[0m\u001b[0mq\u001b[0m\u001b[1;33m.\u001b[0m\u001b[0mpopleft\u001b[0m\u001b[1;33m(\u001b[0m\u001b[1;33m)\u001b[0m\u001b[1;33m[\u001b[0m\u001b[1;36m2\u001b[0m\u001b[1;33m]\u001b[0m\u001b[1;33m)\u001b[0m\u001b[1;33m\u001b[0m\u001b[1;33m\u001b[0m\u001b[0m\n\u001b[0m\u001b[0;32m     16\u001b[0m         \u001b[1;32melif\u001b[0m \u001b[0mmaps\u001b[0m\u001b[1;33m[\u001b[0m\u001b[0mx\u001b[0m \u001b[1;33m+\u001b[0m \u001b[0mdx\u001b[0m\u001b[1;33m]\u001b[0m\u001b[1;33m[\u001b[0m\u001b[0my\u001b[0m \u001b[1;33m+\u001b[0m \u001b[0mdy\u001b[0m\u001b[1;33m]\u001b[0m \u001b[1;33m==\u001b[0m \u001b[1;36m1\u001b[0m \u001b[1;32mand\u001b[0m \u001b[1;33m(\u001b[0m\u001b[0mx\u001b[0m \u001b[1;33m+\u001b[0m \u001b[0mdx\u001b[0m \u001b[1;33m>=\u001b[0m \u001b[1;36m0\u001b[0m \u001b[1;32mand\u001b[0m \u001b[0my\u001b[0m \u001b[1;33m+\u001b[0m \u001b[0mdy\u001b[0m \u001b[1;33m>=\u001b[0m \u001b[1;36m0\u001b[0m\u001b[1;33m)\u001b[0m\u001b[1;33m:\u001b[0m\u001b[1;33m\u001b[0m\u001b[1;33m\u001b[0m\u001b[0m\n\u001b[0;32m     17\u001b[0m             \u001b[0mq\u001b[0m\u001b[1;33m.\u001b[0m\u001b[0mappend\u001b[0m\u001b[1;33m(\u001b[0m\u001b[1;33m(\u001b[0m\u001b[0mx\u001b[0m \u001b[1;33m+\u001b[0m \u001b[0mdx\u001b[0m\u001b[1;33m,\u001b[0m \u001b[0my\u001b[0m \u001b[1;33m+\u001b[0m \u001b[0mdy\u001b[0m\u001b[1;33m,\u001b[0m \u001b[0mcnt\u001b[0m\u001b[1;33m+\u001b[0m\u001b[1;36m1\u001b[0m\u001b[1;33m)\u001b[0m\u001b[1;33m)\u001b[0m\u001b[1;33m\u001b[0m\u001b[1;33m\u001b[0m\u001b[0m\n",
      "\u001b[1;31mIndexError\u001b[0m: pop from an empty deque"
     ]
    }
   ],
   "source": [
    "maps = [[1, 0, 1, 1, 1], [1, 0, 1, 0, 1], [1, 0, 1, 1, 1], [1, 1, 1, 0, 1], [0, 0, 0, 0, 1], [0, 0, 0, 0, 1], [0, 0, 0, 0, 1]]\n",
    "# maps = [[1, 0, 1, 1, 1], [1, 0, 1, 0, 1], [1, 0, 1, 1, 1], [1, 1, 1, 0, 1], [0, 0, 0, 0, 1], [0, 0, 0, 0, 1]]\n",
    "dirs = [(0,1),(1,0),(0,-1),(-1,0)]\n",
    "x, y, cnt = 0, 0, 1\n",
    "q = deque([(x, y, cnt)])\n",
    "target = len(maps[0]), len(maps)\n",
    "\n",
    "while q:\n",
    "    x, y, cnt = q.popleft()\n",
    "    for dx, dy in dirs:\n",
    "        if x + dx >= target[1] or y + dy >= target[0]:\n",
    "            continue\n",
    "        print(q)\n",
    "        if (x + dx == target[1]-1) and (y + dy == target[0]-1):\n",
    "            print(q.popleft()[2])\n",
    "        elif maps[x + dx][y + dy] == 1 and (x + dx >= 0 and y + dy >= 0):\n",
    "            q.append((x + dx, y + dy, cnt+1))\n",
    "            maps[x + dx][y + dy] = 0\n",
    "maps"
   ]
  },
  {
   "cell_type": "code",
   "execution_count": 315,
   "id": "excess-gilbert",
   "metadata": {},
   "outputs": [
    {
     "data": {
      "text/plain": [
       "[[0, 0, 0, 0, 0],\n",
       " [0, 0, 0, 0, 0],\n",
       " [0, 0, 0, 0, 0],\n",
       " [0, 0, 0, 0, 0],\n",
       " [0, 0, 0, 0, 0],\n",
       " [0, 0, 0, 0, 0],\n",
       " [0, 0, 0, 0, 1]]"
      ]
     },
     "execution_count": 315,
     "metadata": {},
     "output_type": "execute_result"
    }
   ],
   "source": [
    "maps"
   ]
  }
 ],
 "metadata": {
  "kernelspec": {
   "display_name": "Python 3",
   "language": "python",
   "name": "python3"
  },
  "language_info": {
   "codemirror_mode": {
    "name": "ipython",
    "version": 3
   },
   "file_extension": ".py",
   "mimetype": "text/x-python",
   "name": "python",
   "nbconvert_exporter": "python",
   "pygments_lexer": "ipython3",
   "version": "3.7.6"
  },
  "toc": {
   "base_numbering": 1,
   "nav_menu": {},
   "number_sections": true,
   "sideBar": true,
   "skip_h1_title": true,
   "title_cell": "Table of Contents",
   "title_sidebar": "Contents",
   "toc_cell": false,
   "toc_position": {
    "height": "calc(100% - 180px)",
    "left": "10px",
    "top": "150px",
    "width": "273.188px"
   },
   "toc_section_display": true,
   "toc_window_display": false
  },
  "varInspector": {
   "cols": {
    "lenName": 16,
    "lenType": 16,
    "lenVar": 40
   },
   "kernels_config": {
    "python": {
     "delete_cmd_postfix": "",
     "delete_cmd_prefix": "del ",
     "library": "var_list.py",
     "varRefreshCmd": "print(var_dic_list())"
    },
    "r": {
     "delete_cmd_postfix": ") ",
     "delete_cmd_prefix": "rm(",
     "library": "var_list.r",
     "varRefreshCmd": "cat(var_dic_list()) "
    }
   },
   "types_to_exclude": [
    "module",
    "function",
    "builtin_function_or_method",
    "instance",
    "_Feature"
   ],
   "window_display": false
  }
 },
 "nbformat": 4,
 "nbformat_minor": 5
}
