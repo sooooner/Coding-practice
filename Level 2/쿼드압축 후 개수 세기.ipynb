{
 "cells": [
  {
   "cell_type": "markdown",
   "id": "adjacent-daily",
   "metadata": {},
   "source": [
    "# 쿼드압축 후 개수 세기\n",
    "## 문제 설명\n",
    "0과 1로 이루어진 2n x 2n 크기의 2차원 정수 배열 arr이 있습니다. 당신은 이 arr을 쿼드 트리와 같은 방식으로 압축하고자 합니다. 구체적인 방식은 다음과 같습니다.\n",
    "\n",
    "1. 당신이 압축하고자 하는 특정 영역을 S라고 정의합니다.\n",
    "2. 만약 S 내부에 있는 모든 수가 같은 값이라면, S를 해당 수 하나로 압축시킵니다.\n",
    "3. 그렇지 않다면, S를 정확히 4개의 균일한 정사각형 영역(입출력 예를 참고해주시기 바랍니다.)으로 쪼갠 뒤, 각 정사각형 영역에 대해 같은 방식의 압축을 시도합니다.\n",
    "\n",
    "arr이 매개변수로 주어집니다. 위와 같은 방식으로 arr을 압축했을 때, 배열에 최종적으로 남는 0의 개수와 1의 개수를 배열에 담아서 return 하도록 solution 함수를 완성해주세요.\n",
    "\n",
    "## 제한사항\n",
    "+ arr의 행의 개수는 1 이상 1024 이하이며, 2의 거듭 제곱수 형태를 하고 있습니다. 즉, arr의 행의 개수는 1, 2, 4, 8, ..., 1024 중 하나입니다.\n",
    "+ arr의 각 행의 길이는 arr의 행의 개수와 같습니다. 즉, arr은 정사각형 배열입니다.\n",
    "+ arr의 각 행에 있는 모든 값은 0 또는 1 입니다.\n",
    "\n",
    "\n",
    "## 입출력 예\n",
    "|arr\t|result|\n",
    "|------|-------|\n",
    "|[[1,1,0,0],<br>[1,0,0,0],<br>[1,0,0,1],<br>[1,1,1,1]]|\t[4,9]|\n",
    "|[[1,1,1,1,1,1,1,1],<br>[0,1,1,1,1,1,1,1],<br>[0,0,0,0,1,1,1,1],<br>[0,1,0,0,1,1,1,1],<br>[0,0,0,0,0,0,1,1],<br>[0,0,0,0,0,0,0,1],<br>[0,0,0,0,1,0,0,1],<br>[0,0,0,0,1,1,1,1]]|\t[10,15]|\n",
    "\n",
    "## 입출력 예 설명\n",
    "### 입출력 예 #1\n",
    "\n",
    "+ 다음 그림은 주어진 arr을 압축하는 과정을 나타낸 것입니다.\n",
    "+ ![ex1.png](https://grepp-programmers.s3.ap-northeast-2.amazonaws.com/files/production/d6900862-8be4-4610-aaef-bc8efd5650cf/ex1.png)\n",
    "+ 최종 압축 결과에 0이 4개, 1이 9개 있으므로, [4,9]를 return 해야 합니다.\n",
    "\n",
    "### 입출력 예 #2\n",
    "\n",
    "+ 다음 그림은 주어진 arr을 압축하는 과정을 나타낸 것입니다.\n",
    "+ ![ex2.png](https://grepp-programmers.s3.ap-northeast-2.amazonaws.com/files/production/952a05b7-5157-4211-82d9-02845c187e13/ex2.png)\n",
    "+ 최종 압축 결과에 0이 10개, 1이 15개 있으므로, [10,15]를 return 해야 합니다.\n",
    "\n",
    "## 문제 풀이"
   ]
  },
  {
   "cell_type": "code",
   "execution_count": 87,
   "id": "separate-bible",
   "metadata": {},
   "outputs": [],
   "source": [
    "def solution(arr):\n",
    "    answer = [0, 0]\n",
    "    def compression(x, y, n):\n",
    "        init = arr[x][y] \n",
    "        for i in range(x, x + n):\n",
    "            for j in range(y, y + n):\n",
    "                if arr[i][j] != init:  \n",
    "                    compression(x, y, n//2)\n",
    "                    compression(x, y + n//2, n//2)\n",
    "                    compression(x + n//2, y, n//2)\n",
    "                    compression(x + n//2, y + n//2, n//2)\n",
    "                    return\n",
    "        answer[init] += 1\n",
    "    compression(0, 0, len(arr))\n",
    "    return answer"
   ]
  },
  {
   "cell_type": "code",
   "execution_count": 88,
   "id": "electoral-burke",
   "metadata": {},
   "outputs": [
    {
     "data": {
      "text/plain": [
       "[10, 15]"
      ]
     },
     "execution_count": 88,
     "metadata": {},
     "output_type": "execute_result"
    }
   ],
   "source": [
    "arr = [[1,1,1,1,1,1,1,1],[0,1,1,1,1,1,1,1],[0,0,0,0,1,1,1,1],[0,1,0,0,1,1,1,1],[0,0,0,0,0,0,1,1],[0,0,0,0,0,0,0,1],[0,0,0,0,1,0,0,1],[0,0,0,0,1,1,1,1]]\n",
    "solution(arr)"
   ]
  }
 ],
 "metadata": {
  "kernelspec": {
   "display_name": "Python 3",
   "language": "python",
   "name": "python3"
  },
  "language_info": {
   "codemirror_mode": {
    "name": "ipython",
    "version": 3
   },
   "file_extension": ".py",
   "mimetype": "text/x-python",
   "name": "python",
   "nbconvert_exporter": "python",
   "pygments_lexer": "ipython3",
   "version": "3.7.6"
  },
  "toc": {
   "base_numbering": 1,
   "nav_menu": {},
   "number_sections": true,
   "sideBar": true,
   "skip_h1_title": true,
   "title_cell": "Table of Contents",
   "title_sidebar": "Contents",
   "toc_cell": false,
   "toc_position": {},
   "toc_section_display": true,
   "toc_window_display": false
  },
  "varInspector": {
   "cols": {
    "lenName": 16,
    "lenType": 16,
    "lenVar": 40
   },
   "kernels_config": {
    "python": {
     "delete_cmd_postfix": "",
     "delete_cmd_prefix": "del ",
     "library": "var_list.py",
     "varRefreshCmd": "print(var_dic_list())"
    },
    "r": {
     "delete_cmd_postfix": ") ",
     "delete_cmd_prefix": "rm(",
     "library": "var_list.r",
     "varRefreshCmd": "cat(var_dic_list()) "
    }
   },
   "types_to_exclude": [
    "module",
    "function",
    "builtin_function_or_method",
    "instance",
    "_Feature"
   ],
   "window_display": false
  }
 },
 "nbformat": 4,
 "nbformat_minor": 5
}
