{
 "cells": [
  {
   "cell_type": "markdown",
   "id": "developed-sharp",
   "metadata": {},
   "source": [
    "# 괄호 변환\n",
    "## 문제 설명\n",
    "카카오에 신입 개발자로 입사한 콘은 선배 개발자로부터 개발역량 강화를 위해 다른 개발자가 작성한 소스 코드를 분석하여 문제점을 발견하고 수정하라는 업무 과제를 받았습니다.   \n",
    "소스를 컴파일하여 로그를 보니 대부분 소스 코드 내 작성된 괄호가 개수는 맞지만 짝이 맞지 않은 형태로 작성되어 오류가 나는 것을 알게 되었습니다.    \n",
    "수정해야 할 소스 파일이 너무 많아서 고민하던 콘은 소스 코드에 작성된 모든 괄호를 뽑아서 올바른 순서대로 배치된 괄호 문자열을 알려주는 프로그램을 다음과 같이 개발하려고 합니다.\n",
    "\n",
    "## 용어의 정의\n",
    "'(' 와 ')' 로만 이루어진 문자열이 있을 경우, '(' 의 개수와 ')' 의 개수가 같다면 이를 균형잡힌 괄호 문자열이라고 부릅니다.  \n",
    "그리고 여기에 '('와 ')'의 괄호의 짝도 모두 맞을 경우에는 이를 올바른 괄호 문자열이라고 부릅니다.  \n",
    "예를 들어, \"(()))(\"와 같은 문자열은 균형잡힌 괄호 문자열 이지만 올바른 괄호 문자열은 아닙니다.  \n",
    "반면에 \"(())()\"와 같은 문자열은 균형잡힌 괄호 문자열 이면서 동시에 올바른 괄호 문자열 입니다.  \n",
    "\n",
    "'(' 와 ')' 로만 이루어진 문자열 w가 균형잡힌 괄호 문자열 이라면 다음과 같은 과정을 통해 올바른 괄호 문자열로 변환할 수 있습니다.  \n",
    "\n",
    "1. 입력이 빈 문자열인 경우, 빈 문자열을 반환합니다. \n",
    "2. 문자열 w를 두 \"균형잡힌 괄호 문자열\" u, v로 분리합니다. 단, u는 \"균형잡힌 괄호 문자열\"로 더 이상 분리할 수 없어야 하며, v는 빈 문자열이 될 수 있습니다. \n",
    "3. 문자열 u가 \"올바른 괄호 문자열\" 이라면 문자열 v에 대해 1단계부터 다시 수행합니다.   \n",
    "  3-1. 수행한 결과 문자열을 u에 이어 붙인 후 반환합니다.     \n",
    "4. 문자열 u가 \"올바른 괄호 문자열\"이 아니라면 아래 과정을 수행합니다.   \n",
    "  4-1. 빈 문자열에 첫 번째 문자로 '('를 붙입니다.   \n",
    "  4-2. 문자열 v에 대해 1단계부터 재귀적으로 수행한 결과 문자열을 이어 붙입니다.   \n",
    "  4-3. ')'를 다시 붙입니다.     \n",
    "  4-4. u의 첫 번째와 마지막 문자를 제거하고, 나머지 문자열의 괄호 방향을 뒤집어서 뒤에 붙입니다.     \n",
    "  4-5. 생성된 문자열을 반환합니다.   \n",
    "\n",
    "균형잡힌 괄호 문자열 p가 매개변수로 주어질 때, 주어진 알고리즘을 수행해 올바른 괄호 문자열로 변환한 결과를 return 하도록 solution 함수를 완성해 주세요.\n",
    "\n",
    "## 매개변수 설명\n",
    "+ p는 '(' 와 ')' 로만 이루어진 문자열이며 길이는 2 이상 1,000 이하인 짝수입니다.\n",
    "+ 문자열 p를 이루는 '(' 와 ')' 의 개수는 항상 같습니다.\n",
    "+ 만약 p가 이미 올바른 괄호 문자열이라면 그대로 return 하면 됩니다.\n",
    "\n",
    "## 입출력 예\n",
    "|p|\tresult|\n",
    "|-|-------|\n",
    "|\"(()())()\"|\t\"(()())()\"|\n",
    "|\")(\"|\t\"()\"|\n",
    "|\"()))((()\"|\t\"()(())()\"|\n",
    "\n",
    "### 입출력 예에 대한 설명\n",
    "#### 입출력 예 #1\n",
    "이미 올바른 괄호 문자열 입니다.\n",
    "\n",
    "#### 입출력 예 #2\n",
    "\n",
    "+ 두 문자열 u, v로 분리합니다.\n",
    "  + u = \")(\"\n",
    "  + v = \"\"\n",
    "+ u가 올바른 괄호 문자열이 아니므로 다음과 같이 새로운 문자열을 만듭니다.\n",
    "  + v에 대해 1단계부터 재귀적으로 수행하면 빈 문자열이 반환됩니다.\n",
    "  + u의 앞뒤 문자를 제거하고, 나머지 문자의 괄호 방향을 뒤집으면 \"\"이 됩니다.\n",
    "  + 따라서 생성되는 문자열은 \"(\" + \"\" + \")\" + \"\"이며, 최종적으로 \"()\"로 변환됩니다.\n",
    "\n",
    "#### 입출력 예 #3\n",
    "\n",
    "+ 두 문자열 u, v로 분리합니다.\n",
    "  + u = \"()\"\n",
    "  + v = \"))((()\"\n",
    "+ 문자열 u가 올바른 괄호 문자열이므로 그대로 두고, v에 대해 재귀적으로 수행합니다.\n",
    "+ 다시 두 문자열 u, v로 분리합니다.\n",
    "  + u = \"))((\"\n",
    "  + v = \"()\"\n",
    "+ u가 올바른 괄호 문자열이 아니므로 다음과 같이 새로운 문자열을 만듭니다.\n",
    "  + v에 대해 1단계부터 재귀적으로 수행하면 \"()\"이 반환됩니다.\n",
    "  + u의 앞뒤 문자를 제거하고, 나머지 문자의 괄호 방향을 뒤집으면 \"()\"이 됩니다.\n",
    "  + 따라서 생성되는 문자열은 \"(\" + \"()\" + \")\" + \"()\"이며, 최종적으로 \"(())()\"를 반환합니다.\n",
    "+ 처음에 그대로 둔 문자열에 반환된 문자열을 이어 붙이면 \"()\" + \"(())()\" = \"()(())()\"가 됩니다.\n",
    "\n",
    "## 문제 풀이\n"
   ]
  },
  {
   "cell_type": "code",
   "execution_count": 1,
   "id": "about-saturday",
   "metadata": {},
   "outputs": [],
   "source": [
    "def uv_split(p):\n",
    "    u = ''\n",
    "    cnt = 0\n",
    "    for s in p:\n",
    "        u += s\n",
    "        if s == \"(\":\n",
    "            cnt += 1\n",
    "        else:\n",
    "            cnt -= 1\n",
    "        if cnt == 0:\n",
    "            break\n",
    "    v = p[len(u):]\n",
    "    return u, v\n",
    "\n",
    "def check_correct(u):\n",
    "    cnt = 0\n",
    "    for i in [1 if s=='(' else -1 for s in u[:-1]]:\n",
    "        cnt += i\n",
    "        if cnt <= 0:\n",
    "            return False\n",
    "    else:\n",
    "        return True\n",
    "\n",
    "def solution(p):\n",
    "    # 1. 입력이 빈 문자열인 경우, 빈 문자열을 반환합니다. \n",
    "    if p == '':\n",
    "        return ''\n",
    "    # 2. 문자열 w를 두 \"균형잡힌 괄호 문자열\" u, v로 분리합니다. \n",
    "    # 단, u는 \"균형잡힌 괄호 문자열\"로 더 이상 분리할 수 없어야 하며, v는 빈 문자열이 될 수 있습니다. \n",
    "    u, v = uv_split(p)\n",
    "    # 3. 문자열 u가 \"올바른 괄호 문자열\" 이라면 문자열 v에 대해 1단계부터 다시 수행합니다. \n",
    "    if check_correct(u):\n",
    "        # 3-1. 수행한 결과 문자열을 u에 이어 붙인 후 반환합니다. \n",
    "        return u + solution(v)\n",
    "    # 4. 문자열 u가 \"올바른 괄호 문자열\"이 아니라면 아래 과정을 수행합니다. \n",
    "    else:\n",
    "        # 4-1. 빈 문자열에 첫 번째 문자로 '('를 붙입니다. \n",
    "        # 4-2. 문자열 v에 대해 1단계부터 재귀적으로 수행한 결과 문자열을 이어 붙입니다. \n",
    "        # 4-3. ')'를 다시 붙입니다. \n",
    "        answer = '(' + solution(v) + ')'\n",
    "        # 4-4. u의 첫 번째와 마지막 문자를 제거하고, 나머지 문자열의 괄호 방향을 뒤집어서 뒤에 붙입니다.\n",
    "        # 4-5. 생성된 문자열을 반환합니다.\n",
    "        return answer + ''.join([')' if s == '(' else '(' for s in u[1:-1]])"
   ]
  },
  {
   "cell_type": "code",
   "execution_count": 2,
   "id": "ranking-paragraph",
   "metadata": {},
   "outputs": [
    {
     "data": {
      "text/plain": [
       "'(()())()'"
      ]
     },
     "execution_count": 2,
     "metadata": {},
     "output_type": "execute_result"
    }
   ],
   "source": [
    "p = '(()())()'\n",
    "solution(p)"
   ]
  },
  {
   "cell_type": "code",
   "execution_count": 3,
   "id": "developmental-desert",
   "metadata": {},
   "outputs": [
    {
     "data": {
      "text/plain": [
       "'()'"
      ]
     },
     "execution_count": 3,
     "metadata": {},
     "output_type": "execute_result"
    }
   ],
   "source": [
    "p = ')('\n",
    "solution(p)"
   ]
  },
  {
   "cell_type": "code",
   "execution_count": 4,
   "id": "statutory-private",
   "metadata": {},
   "outputs": [
    {
     "data": {
      "text/plain": [
       "'()(())()'"
      ]
     },
     "execution_count": 4,
     "metadata": {},
     "output_type": "execute_result"
    }
   ],
   "source": [
    "p = '()))((()'\n",
    "solution(p)"
   ]
  }
 ],
 "metadata": {
  "kernelspec": {
   "display_name": "Python 3",
   "language": "python",
   "name": "python3"
  },
  "language_info": {
   "codemirror_mode": {
    "name": "ipython",
    "version": 3
   },
   "file_extension": ".py",
   "mimetype": "text/x-python",
   "name": "python",
   "nbconvert_exporter": "python",
   "pygments_lexer": "ipython3",
   "version": "3.7.6"
  },
  "toc": {
   "base_numbering": 1,
   "nav_menu": {},
   "number_sections": true,
   "sideBar": true,
   "skip_h1_title": false,
   "title_cell": "Table of Contents",
   "title_sidebar": "Contents",
   "toc_cell": false,
   "toc_position": {},
   "toc_section_display": true,
   "toc_window_display": false
  },
  "varInspector": {
   "cols": {
    "lenName": 16,
    "lenType": 16,
    "lenVar": 40
   },
   "kernels_config": {
    "python": {
     "delete_cmd_postfix": "",
     "delete_cmd_prefix": "del ",
     "library": "var_list.py",
     "varRefreshCmd": "print(var_dic_list())"
    },
    "r": {
     "delete_cmd_postfix": ") ",
     "delete_cmd_prefix": "rm(",
     "library": "var_list.r",
     "varRefreshCmd": "cat(var_dic_list()) "
    }
   },
   "types_to_exclude": [
    "module",
    "function",
    "builtin_function_or_method",
    "instance",
    "_Feature"
   ],
   "window_display": false
  }
 },
 "nbformat": 4,
 "nbformat_minor": 5
}
