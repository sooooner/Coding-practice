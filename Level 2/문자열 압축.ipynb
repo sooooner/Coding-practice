{
 "cells": [
  {
   "cell_type": "markdown",
   "id": "naked-joseph",
   "metadata": {},
   "source": [
    "# 문자열 압축\n",
    "## 문제 설명\n",
    "데이터 처리 전문가가 되고 싶은 어피치는 문자열을 압축하는 방법에 대해 공부를 하고 있습니다. 최근에 대량의 데이터 처리를 위한 간단한 비손실 압축 방법에 대해 공부를 하고 있는데, 문자열에서 같은 값이 연속해서 나타나는 것을 그 문자의 개수와 반복되는 값으로 표현하여 더 짧은 문자열로 줄여서 표현하는 알고리즘을 공부하고 있습니다.  \n",
    "\n",
    "간단한 예로 aabbaccc의 경우 2a2ba3c(문자가 반복되지 않아 한번만 나타난 경우 1은 생략함)와 같이 표현할 수 있는데, 이러한 방식은 반복되는 문자가 적은 경우 압축률이 낮다는 단점이 있습니다. 예를 들면, abcabcdede와 같은 문자열은 전혀 압축되지 않습니다. 어피치는 이러한 단점을 해결하기 위해 문자열을 1개 이상의 단위로 잘라서 압축하여 더 짧은 문자열로 표현할 수 있는지 방법을 찾아보려고 합니다.  \n",
    "\n",
    "예를 들어, ababcdcdababcdcd의 경우 문자를 1개 단위로 자르면 전혀 압축되지 않지만, 2개 단위로 잘라서 압축한다면 2ab2cd2ab2cd로 표현할 수 있습니다. 다른 방법으로 8개 단위로 잘라서 압축한다면 2ababcdcd로 표현할 수 있으며, 이때가 가장 짧게 압축하여 표현할 수 있는 방법입니다.\n",
    "\n",
    "다른 예로, abcabcdede와 같은 경우, 문자를 2개 단위로 잘라서 압축하면 abcabc2de가 되지만, 3개 단위로 자른다면 2abcdede가 되어 3개 단위가 가장 짧은 압축 방법이 됩니다. 이때 3개 단위로 자르고 마지막에 남는 문자열은 그대로 붙여주면 됩니다.\n",
    "\n",
    "압축할 문자열 s가 매개변수로 주어질 때, 위에 설명한 방법으로 1개 이상 단위로 문자열을 잘라 압축하여 표현한 문자열 중 가장 짧은 것의 길이를 return 하도록 solution 함수를 완성해주세요.\n",
    "\n",
    "## 제한사항\n",
    "+ s의 길이는 1 이상 1,000 이하입니다.\n",
    "+ s는 알파벳 소문자로만 이루어져 있습니다.\n",
    "\n",
    "## 입출력 예\n",
    "|s\t|result|\n",
    "|---|------|\n",
    "|\"aabbaccc\"\t|7|\n",
    "|\"ababcdcdababcdcd\"\t|9|\n",
    "|\"abcabcdede\"\t|8|\n",
    "|\"abcabcabcabcdededededede\"\t|14|\n",
    "|\"xababcdcdababcdcd\"\t|17|\n",
    "\n",
    "### 입출력 예에 대한 설명\n",
    "#### 입출력 예 #1\n",
    "\n",
    "문자열을 1개 단위로 잘라 압축했을 때 가장 짧습니다.\n",
    "\n",
    "#### 입출력 예 #2\n",
    "\n",
    "문자열을 8개 단위로 잘라 압축했을 때 가장 짧습니다.\n",
    "\n",
    "#### 입출력 예 #3\n",
    "\n",
    "문자열을 3개 단위로 잘라 압축했을 때 가장 짧습니다.\n",
    "\n",
    "#### 입출력 예 #4\n",
    "\n",
    "문자열을 2개 단위로 자르면 abcabcabcabc6de 가 됩니다.  \n",
    "문자열을 3개 단위로 자르면 4abcdededededede 가 됩니다.  \n",
    "문자열을 4개 단위로 자르면 abcabcabcabc3dede 가 됩니다.  \n",
    "문자열을 6개 단위로 자를 경우 2abcabc2dedede가 되며, 이때의 길이가 14로 가장 짧습니다.  \n",
    "\n",
    "#### 입출력 예 #5\n",
    "\n",
    "문자열은 제일 앞부터 정해진 길이만큼 잘라야 합니다.  \n",
    "따라서 주어진 문자열을 x / ababcdcd / ababcdcd 로 자르는 것은 불가능 합니다.  \n",
    "이 경우 어떻게 문자열을 잘라도 압축되지 않으므로 가장 짧은 길이는 17이 됩니다  \n",
    "\n",
    "## 문제 풀이"
   ]
  },
  {
   "cell_type": "code",
   "execution_count": 200,
   "id": "headed-commercial",
   "metadata": {},
   "outputs": [],
   "source": [
    "def solution(s):\n",
    "    max_len = len(s)\n",
    "    s_dict = {}\n",
    "    dict_len = 0\n",
    "    for i in range(1, len(s)//2+1):\n",
    "        cnt = 1\n",
    "        temp_s = s\n",
    "        for j in range(0, len(s), i):\n",
    "            if s[j:j+i] == s[j+i:j+2*i]:\n",
    "                cnt += 1\n",
    "                s_dict[s[j:j+i]] = cnt\n",
    "                temp_s = temp_s[i:]\n",
    "                if len(s_dict) > dict_len:\n",
    "                    cnt = 2\n",
    "                    dict_len =len(s_dict)\n",
    "            elif s[j:j+i] in s_dict.keys():\n",
    "                s_dict[s[j:j+i]+str(j)] = s_dict.pop(s[j:j+i])\n",
    "                temp_s += str(cnt)\n",
    "                cnt = 1\n",
    "            else:\n",
    "                cnt = 1\n",
    "        if max_len > len(temp_s):\n",
    "            max_len = len(temp_s)\n",
    "\n",
    "    return max_len"
   ]
  },
  {
   "cell_type": "code",
   "execution_count": 201,
   "id": "accepting-cherry",
   "metadata": {},
   "outputs": [
    {
     "data": {
      "text/plain": [
       "7"
      ]
     },
     "execution_count": 201,
     "metadata": {},
     "output_type": "execute_result"
    }
   ],
   "source": [
    "s = \"aabbaccc\"\n",
    "solution(s)"
   ]
  },
  {
   "cell_type": "code",
   "execution_count": 202,
   "id": "assisted-water",
   "metadata": {},
   "outputs": [
    {
     "data": {
      "text/plain": [
       "9"
      ]
     },
     "execution_count": 202,
     "metadata": {},
     "output_type": "execute_result"
    }
   ],
   "source": [
    "s = \"ababcdcdababcdcd\"\n",
    "solution(s)"
   ]
  },
  {
   "cell_type": "code",
   "execution_count": 203,
   "id": "proper-malaysia",
   "metadata": {},
   "outputs": [
    {
     "data": {
      "text/plain": [
       "8"
      ]
     },
     "execution_count": 203,
     "metadata": {},
     "output_type": "execute_result"
    }
   ],
   "source": [
    "s = \"abcabcdede\"\n",
    "solution(s)"
   ]
  },
  {
   "cell_type": "code",
   "execution_count": 204,
   "id": "minimal-prison",
   "metadata": {},
   "outputs": [
    {
     "data": {
      "text/plain": [
       "14"
      ]
     },
     "execution_count": 204,
     "metadata": {},
     "output_type": "execute_result"
    }
   ],
   "source": [
    "s = \"abcabcabcabcdededededede\"\n",
    "solution(s)"
   ]
  },
  {
   "cell_type": "code",
   "execution_count": 205,
   "id": "federal-debate",
   "metadata": {},
   "outputs": [
    {
     "data": {
      "text/plain": [
       "17"
      ]
     },
     "execution_count": 205,
     "metadata": {},
     "output_type": "execute_result"
    }
   ],
   "source": [
    "s = \"xababcdcdababcdcd\"\n",
    "solution(s)"
   ]
  }
 ],
 "metadata": {
  "kernelspec": {
   "display_name": "Python 3",
   "language": "python",
   "name": "python3"
  },
  "language_info": {
   "codemirror_mode": {
    "name": "ipython",
    "version": 3
   },
   "file_extension": ".py",
   "mimetype": "text/x-python",
   "name": "python",
   "nbconvert_exporter": "python",
   "pygments_lexer": "ipython3",
   "version": "3.7.6"
  },
  "toc": {
   "base_numbering": 1,
   "nav_menu": {},
   "number_sections": true,
   "sideBar": true,
   "skip_h1_title": true,
   "title_cell": "Table of Contents",
   "title_sidebar": "Contents",
   "toc_cell": false,
   "toc_position": {},
   "toc_section_display": true,
   "toc_window_display": true
  },
  "varInspector": {
   "cols": {
    "lenName": 16,
    "lenType": 16,
    "lenVar": 40
   },
   "kernels_config": {
    "python": {
     "delete_cmd_postfix": "",
     "delete_cmd_prefix": "del ",
     "library": "var_list.py",
     "varRefreshCmd": "print(var_dic_list())"
    },
    "r": {
     "delete_cmd_postfix": ") ",
     "delete_cmd_prefix": "rm(",
     "library": "var_list.r",
     "varRefreshCmd": "cat(var_dic_list()) "
    }
   },
   "types_to_exclude": [
    "module",
    "function",
    "builtin_function_or_method",
    "instance",
    "_Feature"
   ],
   "window_display": false
  }
 },
 "nbformat": 4,
 "nbformat_minor": 5
}
