{
 "cells": [
  {
   "cell_type": "markdown",
   "id": "breeding-czech",
   "metadata": {},
   "source": [
    "# 삼각 달팽이\n",
    "## 문제 설명\n",
    "정수 n이 매개변수로 주어집니다. \n",
    "다음 그림과 같이 밑변의 길이와 높이가 n인 삼각형에서 맨 위 꼭짓점부터 반시계 방향으로 달팽이 채우기를 진행한 후, 첫 행부터 마지막 행까지 모두 순서대로 합친 새로운 배열을 return 하도록 solution 함수를 완성해주세요.\n",
    "\n",
    "![examples.png](https://grepp-programmers.s3.ap-northeast-2.amazonaws.com/files/production/e1e53b93-dcdf-446f-b47f-e8ec1292a5e0/examples.png)\n",
    "\n",
    "## 제한사항\n",
    "\n",
    "+ n은 1 이상 1,000 이하입니다.\n",
    "\n",
    "## 입출력 예\n",
    "\n",
    "|n|\tresult|\n",
    "|-|-------|\n",
    "|4|\t[1,2,9,3,10,8,4,5,6,7]|\n",
    "|5|\t[1,2,12,3,13,11,4,14,15,10,5,6,7,8,9]|\n",
    "|6|\t[1,2,15,3,16,14,4,17,21,13,5,18,19,20,12,6,7,8,9,10,11]|\n",
    "\n",
    "## 문제 풀이\n",
    "### 고려 사항\n",
    "+ n, n-1, n-2칸씩 이동할 때마다 진행 방향을 바꾼다\n",
    "  + 3가지 경우의 수로 한칸씩 커지게 진행\n",
    "+ "
   ]
  },
  {
   "cell_type": "code",
   "execution_count": 91,
   "id": "commercial-sponsorship",
   "metadata": {},
   "outputs": [],
   "source": [
    "def solution(n):\n",
    "    answer = []\n",
    "    triangle_lists = [[0]*i for i in range(1, n+1)]\n",
    "    location_x = -1\n",
    "    location_y = 0\n",
    "    cnt = 0\n",
    "    \n",
    "    for i in range(n):\n",
    "        for _ in range(i, n):\n",
    "            if i % 3 == 0:\n",
    "                location_x += 1\n",
    "            elif i % 3 == 1:\n",
    "                location_y += 1\n",
    "            else:\n",
    "                location_x -= 1\n",
    "                location_y -= 1\n",
    "            cnt += 1\n",
    "            triangle_lists[location_x][location_y] = cnt\n",
    "        \n",
    "    return [e for row in triangle_lists for e in row]"
   ]
  },
  {
   "cell_type": "code",
   "execution_count": 92,
   "id": "acknowledged-secondary",
   "metadata": {},
   "outputs": [
    {
     "data": {
      "text/plain": [
       "[1, 2, 9, 3, 10, 8, 4, 5, 6, 7]"
      ]
     },
     "execution_count": 92,
     "metadata": {},
     "output_type": "execute_result"
    }
   ],
   "source": [
    "n = 4\n",
    "solution(n)"
   ]
  },
  {
   "cell_type": "code",
   "execution_count": 93,
   "id": "desirable-money",
   "metadata": {},
   "outputs": [
    {
     "data": {
      "text/plain": [
       "[1, 2, 12, 3, 13, 11, 4, 14, 15, 10, 5, 6, 7, 8, 9]"
      ]
     },
     "execution_count": 93,
     "metadata": {},
     "output_type": "execute_result"
    }
   ],
   "source": [
    "n = 5\n",
    "solution(n)"
   ]
  },
  {
   "cell_type": "code",
   "execution_count": 94,
   "id": "competent-harrison",
   "metadata": {},
   "outputs": [
    {
     "data": {
      "text/plain": [
       "[1, 2, 15, 3, 16, 14, 4, 17, 21, 13, 5, 18, 19, 20, 12, 6, 7, 8, 9, 10, 11]"
      ]
     },
     "execution_count": 94,
     "metadata": {},
     "output_type": "execute_result"
    }
   ],
   "source": [
    "n = 6\n",
    "solution(n)"
   ]
  },
  {
   "cell_type": "markdown",
   "id": "pregnant-founder",
   "metadata": {},
   "source": [
    "## 다른 사람의 풀이"
   ]
  },
  {
   "cell_type": "code",
   "execution_count": 95,
   "id": "ruled-negotiation",
   "metadata": {},
   "outputs": [],
   "source": [
    "def solution(n):\n",
    "    dx=[0,1,-1];dy=[1,0,-1]\n",
    "    b=[[0]*i for i in range(1,n+1)]\n",
    "    x,y=0,0;num=1;d=0\n",
    "    while num<=(n+1)*n//2:\n",
    "        b[y][x]=num\n",
    "        ny=y+dy[d];nx=x+dx[d];num+=1\n",
    "        if 0<=ny<n and 0<=nx<=ny and b[ny][nx]==0:y,x=ny,nx\n",
    "        else:d=(d+1)%3;y+=dy[d];x+=dx[d]\n",
    "    return sum(b,[])"
   ]
  },
  {
   "cell_type": "code",
   "execution_count": 96,
   "id": "aboriginal-surgery",
   "metadata": {},
   "outputs": [
    {
     "data": {
      "text/plain": [
       "[1, 2, 9, 3, 10, 8, 4, 5, 6, 7]"
      ]
     },
     "execution_count": 96,
     "metadata": {},
     "output_type": "execute_result"
    }
   ],
   "source": [
    "n = 4\n",
    "solution(n)"
   ]
  },
  {
   "cell_type": "code",
   "execution_count": 97,
   "id": "equal-separation",
   "metadata": {},
   "outputs": [
    {
     "data": {
      "text/plain": [
       "[1, 2, 12, 3, 13, 11, 4, 14, 15, 10, 5, 6, 7, 8, 9]"
      ]
     },
     "execution_count": 97,
     "metadata": {},
     "output_type": "execute_result"
    }
   ],
   "source": [
    "n = 5\n",
    "solution(n)"
   ]
  },
  {
   "cell_type": "code",
   "execution_count": 98,
   "id": "liked-eight",
   "metadata": {},
   "outputs": [
    {
     "data": {
      "text/plain": [
       "[1, 2, 15, 3, 16, 14, 4, 17, 21, 13, 5, 18, 19, 20, 12, 6, 7, 8, 9, 10, 11]"
      ]
     },
     "execution_count": 98,
     "metadata": {},
     "output_type": "execute_result"
    }
   ],
   "source": [
    "n = 6\n",
    "solution(n)"
   ]
  }
 ],
 "metadata": {
  "kernelspec": {
   "display_name": "Python 3",
   "language": "python",
   "name": "python3"
  },
  "language_info": {
   "codemirror_mode": {
    "name": "ipython",
    "version": 3
   },
   "file_extension": ".py",
   "mimetype": "text/x-python",
   "name": "python",
   "nbconvert_exporter": "python",
   "pygments_lexer": "ipython3",
   "version": "3.7.6"
  },
  "toc": {
   "base_numbering": 1,
   "nav_menu": {},
   "number_sections": true,
   "sideBar": true,
   "skip_h1_title": true,
   "title_cell": "Table of Contents",
   "title_sidebar": "Contents",
   "toc_cell": false,
   "toc_position": {},
   "toc_section_display": true,
   "toc_window_display": true
  },
  "varInspector": {
   "cols": {
    "lenName": 16,
    "lenType": 16,
    "lenVar": 40
   },
   "kernels_config": {
    "python": {
     "delete_cmd_postfix": "",
     "delete_cmd_prefix": "del ",
     "library": "var_list.py",
     "varRefreshCmd": "print(var_dic_list())"
    },
    "r": {
     "delete_cmd_postfix": ") ",
     "delete_cmd_prefix": "rm(",
     "library": "var_list.r",
     "varRefreshCmd": "cat(var_dic_list()) "
    }
   },
   "types_to_exclude": [
    "module",
    "function",
    "builtin_function_or_method",
    "instance",
    "_Feature"
   ],
   "window_display": false
  }
 },
 "nbformat": 4,
 "nbformat_minor": 5
}
