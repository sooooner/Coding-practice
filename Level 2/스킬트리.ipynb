{
 "cells": [
  {
   "cell_type": "markdown",
   "id": "informational-north",
   "metadata": {},
   "source": [
    "# 스킬트리\n",
    "## 문제 설명\n",
    "선행 스킬이란 어떤 스킬을 배우기 전에 먼저 배워야 하는 스킬을 뜻합니다.\n",
    "\n",
    "예를 들어 선행 스킬 순서가 스파크 → 라이트닝 볼트 → 썬더일때, 썬더를 배우려면 먼저 라이트닝 볼트를 배워야 하고, 라이트닝 볼트를 배우려면 먼저 스파크를 배워야 합니다.\n",
    "\n",
    "위 순서에 없는 다른 스킬(힐링 등)은 순서에 상관없이 배울 수 있습니다.  \n",
    "따라서 스파크 → 힐링 → 라이트닝 볼트 → 썬더와 같은 스킬트리는 가능하지만, 썬더 → 스파크나 라이트닝 볼트 → 스파크 → 힐링 → 썬더와 같은 스킬트리는 불가능합니다.\n",
    "\n",
    "선행 스킬 순서 skill과 유저들이 만든 스킬트리1를 담은 배열 skill_trees가 매개변수로 주어질 때, 가능한 스킬트리 개수를 return 하는 solution 함수를 작성해주세요.\n",
    "\n",
    "## 제한 조건\n",
    "\n",
    "+ 스킬은 알파벳 대문자로 표기하며, 모든 문자열은 알파벳 대문자로만 이루어져 있습니다.\n",
    "+ 스킬 순서와 스킬트리는 문자열로 표기합니다.\n",
    "  + 예를 들어, C → B → D 라면 CBD로 표기합니다\n",
    "+ 선행 스킬 순서 skill의 길이는 1 이상 26 이하이며, 스킬은 중복해 주어지지 않습니다.\n",
    "+ skill_trees는 길이 1 이상 20 이하인 배열입니다.\n",
    "+ skill_trees의 원소는 스킬을 나타내는 문자열입니다.\n",
    "  + skill_trees의 원소는 길이가 2 이상 26 이하인 문자열이며, 스킬이 중복해 주어지지 않습니다.\n",
    "  \n",
    "## 입출력 예\n",
    "\n",
    "|skill|\tskill_trees\t|return|\n",
    "|-----|-------------|------|\n",
    "|\"CBD\"|\t[\"BACDE\", \"CBADF\", \"AECB\", \"BDA\"]\t|2|\n",
    "\n",
    "### 입출력 예 설명\n",
    "+ BACDE: B 스킬을 배우기 전에 C 스킬을 먼저 배워야 합니다. 불가능한 스킬트립니다.\n",
    "+ CBADF: 가능한 스킬트리입니다.\n",
    "+ AECB: 가능한 스킬트리입니다.\n",
    "+ BDA: B 스킬을 배우기 전에 C 스킬을 먼저 배워야 합니다. 불가능한 스킬트리입니다.\n",
    "\n",
    "## 문제 풀이"
   ]
  },
  {
   "cell_type": "code",
   "execution_count": 22,
   "id": "powered-agenda",
   "metadata": {},
   "outputs": [],
   "source": [
    "def solution(skill, skill_trees):\n",
    "    answer = 0\n",
    "    for skill_tree in skill_trees:\n",
    "        skill_temp = list(skill)\n",
    "        for sk in skill_tree:\n",
    "            if sk in skill_temp:\n",
    "                if skill_temp.index(sk) == 0:\n",
    "                    skill_temp.pop(0)\n",
    "                else:\n",
    "                    answer += 1\n",
    "                    break\n",
    "        \n",
    "    return len(skill_trees) - answer"
   ]
  },
  {
   "cell_type": "code",
   "execution_count": 23,
   "id": "offensive-broadway",
   "metadata": {},
   "outputs": [
    {
     "data": {
      "text/plain": [
       "2"
      ]
     },
     "execution_count": 23,
     "metadata": {},
     "output_type": "execute_result"
    }
   ],
   "source": [
    "skill = \"CBD\"\n",
    "skill_trees = [\"BACDE\", \"CBADF\", \"AECB\", \"BDA\"]\n",
    "solution(skill, skill_trees)"
   ]
  }
 ],
 "metadata": {
  "kernelspec": {
   "display_name": "Python 3",
   "language": "python",
   "name": "python3"
  },
  "language_info": {
   "codemirror_mode": {
    "name": "ipython",
    "version": 3
   },
   "file_extension": ".py",
   "mimetype": "text/x-python",
   "name": "python",
   "nbconvert_exporter": "python",
   "pygments_lexer": "ipython3",
   "version": "3.7.6"
  },
  "toc": {
   "base_numbering": 1,
   "nav_menu": {},
   "number_sections": true,
   "sideBar": true,
   "skip_h1_title": true,
   "title_cell": "Table of Contents",
   "title_sidebar": "Contents",
   "toc_cell": false,
   "toc_position": {
    "height": "calc(100% - 180px)",
    "left": "10px",
    "top": "150px",
    "width": "273.188px"
   },
   "toc_section_display": true,
   "toc_window_display": false
  },
  "varInspector": {
   "cols": {
    "lenName": 16,
    "lenType": 16,
    "lenVar": 40
   },
   "kernels_config": {
    "python": {
     "delete_cmd_postfix": "",
     "delete_cmd_prefix": "del ",
     "library": "var_list.py",
     "varRefreshCmd": "print(var_dic_list())"
    },
    "r": {
     "delete_cmd_postfix": ") ",
     "delete_cmd_prefix": "rm(",
     "library": "var_list.r",
     "varRefreshCmd": "cat(var_dic_list()) "
    }
   },
   "types_to_exclude": [
    "module",
    "function",
    "builtin_function_or_method",
    "instance",
    "_Feature"
   ],
   "window_display": false
  }
 },
 "nbformat": 4,
 "nbformat_minor": 5
}
