{
 "cells": [
  {
   "cell_type": "markdown",
   "id": "paperback-drain",
   "metadata": {},
   "source": [
    "# 방금그곡\n",
    "\n",
    "## 문제 설명\n",
    "\n",
    "라디오를 자주 듣는 네오는 라디오에서 방금 나왔던 음악이 무슨 음악인지 궁금해질 때가 많다. \n",
    "\n",
    "그럴 때 네오는 다음 포털의 '방금그곡' 서비스를 이용하곤 한다. \n",
    "\n",
    "방금그곡에서는 TV, 라디오 등에서 나온 음악에 관해 제목 등의 정보를 제공하는 서비스이다.\n",
    "\n",
    "네오는 자신이 기억한 멜로디를 가지고 방금그곡을 이용해 음악을 찾는다. \n",
    "\n",
    "그런데 라디오 방송에서는 한 음악을 반복해서 재생할 때도 있어서 네오가 기억하고 있는 멜로디는 음악 끝부분과 처음 부분이 이어서 재생된 멜로디일 수도 있다. \n",
    "\n",
    "반대로, 한 음악을 중간에 끊을 경우 원본 음악에는 네오가 기억한 멜로디가 들어있다 해도 그 곡이 네오가 들은 곡이 아닐 수도 있다. \n",
    "\n",
    "그렇기 때문에 네오는 기억한 멜로디를 재생 시간과 제공된 악보를 직접 보면서 비교하려고 한다. \n",
    "\n",
    "다음과 같은 가정을 할 때 네오가 찾으려는 음악의 제목을 구하여라.\n",
    "\n",
    "+ 방금그곡 서비스에서는 음악 제목, 재생이 시작되고 끝난 시각, 악보를 제공한다.\n",
    "+ 네오가 기억한 멜로디와 악보에 사용되는 음은 C, C#, D, D#, E, F, F#, G, G#, A, A#, B 12개이다.\n",
    "+ 각 음은 1분에 1개씩 재생된다. 음악은 반드시 처음부터 재생되며 음악 길이보다 재생된 시간이 길 때는 음악이 끊김 없이 처음부터 반복해서 재생된다. 음악 길이보다 재생된 시간이 짧을 때는 처음부터 재생 시간만큼만 재생된다.\n",
    "+ 음악이 00:00를 넘겨서까지 재생되는 일은 없다.\n",
    "+ 조건이 일치하는 음악이 여러 개일 때에는 라디오에서 재생된 시간이 제일 긴 음악 제목을 반환한다.  \n",
    "  재생된 시간도 같을 경우 먼저 입력된 음악 제목을 반환한다.\n",
    "+ 조건이 일치하는 음악이 없을 때에는 “(None)”을 반환한다.\n",
    "\n",
    "## 입력 형식\n",
    "입력으로 네오가 기억한 멜로디를 담은 문자열 m과 방송된 곡의 정보를 담고 있는 배열 musicinfos가 주어진다.\n",
    "\n",
    "+ m은 음 1개 이상 1439개 이하로 구성되어 있다.\n",
    "+ musicinfos는 100개 이하의 곡 정보를 담고 있는 배열로, 각각의 곡 정보는 음악이 시작한 시각, 끝난 시각, 음악 제목, 악보 정보가 ','로 구분된 문자열이다.\n",
    "  + 음악의 시작 시각과 끝난 시각은 24시간 HH:MM 형식이다.\n",
    "  + 음악 제목은 ',' 이외의 출력 가능한 문자로 표현된 길이 1 이상 64 이하의 문자열이다.\n",
    "  + 악보 정보는 음 1개 이상 1439개 이하로 구성되어 있다.\n",
    "\n",
    "## 출력 형식\n",
    "조건과 일치하는 음악 제목을 출력한다.\n",
    "\n",
    "## 입출력 예시\n",
    "\n",
    "|m\t|musicinfos\t|answer|\n",
    "|---|------------|------|\n",
    "|ABCDEFG|\t[12:00,12:14,HELLO,CDEFGAB, 13:00,13:05,WORLD,ABCDEF]|\tHELLO|\n",
    "|CC#BCC#BCC#BCC#B|\t[03:00,03:30,FOO,CC#B, 04:00,04:08,BAR,CC#BCC#BCC#B]\t|FOO|\n",
    "|ABC|\t[12:00,12:14,HELLO,C#DEFGAB, 13:00,13:05,WORLD,ABCDEF]|\tWORLD|\n",
    "\n",
    "## 설명\n",
    "+ 첫 번째 예시에서 HELLO는 길이가 7분이지만 12:00부터 12:14까지 재생되었으므로 실제로 CDEFGABCDEFGAB로 재생되었고, \n",
    "  이 중에 기억한 멜로디인 ABCDEFG가 들어있다.\n",
    "+ 세 번째 예시에서 HELLO는 C#DEFGABC#DEFGAB로, WORLD는 ABCDE로 재생되었다. \n",
    "  HELLO 안에 있는 ABC#은 기억한 멜로디인 ABC와 일치하지 않고, WORLD 안에 있는 ABC가 기억한 멜로디와 일치한다."
   ]
  },
  {
   "cell_type": "code",
   "execution_count": 1,
   "id": "beginning-ground",
   "metadata": {},
   "outputs": [],
   "source": [
    "import re\n",
    "from datetime import datetime\n",
    "\n",
    "class Musicinfo_Extractor(object):\n",
    "    def __init__(self, row):\n",
    "        self.info = row.split(',')\n",
    "        self.start_time = datetime.strptime(self.info[0], '%H:%M')\n",
    "        self.end_time = datetime.strptime(self.info[1], '%H:%M')\n",
    "        self.music_name = self.info[2]\n",
    "        \n",
    "        self.music_score = self.Convert_to_lowercase(self.info[3])\n",
    "        self.played_time = self.music_played_time(self.start_time, self.end_time)\n",
    "        self.played_music = self.played_music_score(self.played_time, self.music_score)\n",
    "        \n",
    "    def music_played_time(self, t1, t2):\n",
    "        return int((t2 - t1).total_seconds() / 60)\n",
    "    \n",
    "    def played_music_score(self, played_time, music_score):\n",
    "         return (music_score * (played_time//len(music_score) + 1))[:played_time]\n",
    "        \n",
    "    @staticmethod\n",
    "    def Convert_to_lowercase(score):\n",
    "        def find_Crosshatch(m):\n",
    "            return m.group()[0].lower()\n",
    "        return re.sub('[A-Z]#', find_Crosshatch, score)\n",
    "\n",
    "def solution(m, musicinfos):\n",
    "    m = Musicinfo_Extractor.Convert_to_lowercase(m)\n",
    "    answer = '(None)'\n",
    "    threshold = 0\n",
    "    for music in musicinfos:\n",
    "        extracted_music = Musicinfo_Extractor(music)\n",
    "        if re.search(m, extracted_music.played_music):\n",
    "            if extracted_music.played_time > threshold:\n",
    "                threshold = extracted_music.played_time\n",
    "                answer = extracted_music.music_name\n",
    "    return answer"
   ]
  },
  {
   "cell_type": "code",
   "execution_count": 2,
   "id": "liked-immigration",
   "metadata": {},
   "outputs": [
    {
     "data": {
      "text/plain": [
       "'HELLO'"
      ]
     },
     "execution_count": 2,
     "metadata": {},
     "output_type": "execute_result"
    }
   ],
   "source": [
    "m = \"ABCDEFG\"\n",
    "musicinfos = ['12:00,12:14,HELLO,CDEFGAB', '13:00,13:05,WORLD,ABCDEF']\n",
    "solution(m, musicinfos)"
   ]
  },
  {
   "cell_type": "code",
   "execution_count": 3,
   "id": "corresponding-blackberry",
   "metadata": {},
   "outputs": [
    {
     "data": {
      "text/plain": [
       "'FOO'"
      ]
     },
     "execution_count": 3,
     "metadata": {},
     "output_type": "execute_result"
    }
   ],
   "source": [
    "m = 'CC#BCC#BCC#BCC#B'\n",
    "musicinfos = ['03:00,03:30,FOO,CC#B', '04:00,04:08,BAR,CC#BCC#BCC#B']\n",
    "solution(m, musicinfos)"
   ]
  },
  {
   "cell_type": "code",
   "execution_count": 4,
   "id": "fifteen-queens",
   "metadata": {},
   "outputs": [
    {
     "data": {
      "text/plain": [
       "'WORLD'"
      ]
     },
     "execution_count": 4,
     "metadata": {},
     "output_type": "execute_result"
    }
   ],
   "source": [
    "m = \"ABC\"\n",
    "musicinfos = ['12:00,12:14,HELLO,C#DEFGAB', '13:00,13:05,WORLD,ABCDEF']\n",
    "solution(m, musicinfos)"
   ]
  }
 ],
 "metadata": {
  "kernelspec": {
   "display_name": "Python 3",
   "language": "python",
   "name": "python3"
  },
  "language_info": {
   "codemirror_mode": {
    "name": "ipython",
    "version": 3
   },
   "file_extension": ".py",
   "mimetype": "text/x-python",
   "name": "python",
   "nbconvert_exporter": "python",
   "pygments_lexer": "ipython3",
   "version": "3.7.6"
  },
  "toc": {
   "base_numbering": 1,
   "nav_menu": {},
   "number_sections": true,
   "sideBar": true,
   "skip_h1_title": true,
   "title_cell": "Table of Contents",
   "title_sidebar": "Contents",
   "toc_cell": false,
   "toc_position": {},
   "toc_section_display": true,
   "toc_window_display": false
  },
  "varInspector": {
   "cols": {
    "lenName": 16,
    "lenType": 16,
    "lenVar": 40
   },
   "kernels_config": {
    "python": {
     "delete_cmd_postfix": "",
     "delete_cmd_prefix": "del ",
     "library": "var_list.py",
     "varRefreshCmd": "print(var_dic_list())"
    },
    "r": {
     "delete_cmd_postfix": ") ",
     "delete_cmd_prefix": "rm(",
     "library": "var_list.r",
     "varRefreshCmd": "cat(var_dic_list()) "
    }
   },
   "types_to_exclude": [
    "module",
    "function",
    "builtin_function_or_method",
    "instance",
    "_Feature"
   ],
   "window_display": false
  }
 },
 "nbformat": 4,
 "nbformat_minor": 5
}
