{
 "cells": [
  {
   "cell_type": "markdown",
   "id": "italian-bones",
   "metadata": {},
   "source": [
    "# 베스트앨범\n",
    "## 문제 설명\n",
    "스트리밍 사이트에서 장르 별로 가장 많이 재생된 노래를 두 개씩 모아 베스트 앨범을 출시하려 합니다. 노래는 고유 번호로 구분하며, 노래를 수록하는 기준은 다음과 같습니다.\n",
    "\n",
    "1. 속한 노래가 많이 재생된 장르를 먼저 수록합니다.\n",
    "2. 장르 내에서 많이 재생된 노래를 먼저 수록합니다.\n",
    "3. 장르 내에서 재생 횟수가 같은 노래 중에서는 고유 번호가 낮은 노래를 먼저 수록합니다.\n",
    "\n",
    "노래의 장르를 나타내는 문자열 배열 genres와 노래별 재생 횟수를 나타내는 정수 배열 plays가 주어질 때, 베스트 앨범에 들어갈 노래의 고유 번호를 순서대로 return 하도록 solution 함수를 완성하세요.\n",
    "\n",
    "## 제한사항\n",
    "+ genres[i]는 고유번호가 i인 노래의 장르입니다.\n",
    "+ plays[i]는 고유번호가 i인 노래가 재생된 횟수입니다.\n",
    "+ genres와 plays의 길이는 같으며, 이는 1 이상 10,000 이하입니다.\n",
    "+ 장르 종류는 100개 미만입니다.\n",
    "+ 장르에 속한 곡이 하나라면, 하나의 곡만 선택합니다.\n",
    "+ 모든 장르는 재생된 횟수가 다릅니다.\n",
    "\n",
    "## 입출력 예\n",
    "|genres|\tplays\t|return|\n",
    "|------|----------|----------|\n",
    "|[\"classic\", \"pop\", \"classic\", \"classic\", \"pop\"]\t|[500, 600, 150, 800, 2500]\t|[4, 1, 3, 0]|\n",
    "\n",
    "### 입출력 예 설명\n",
    "classic 장르는 1,450회 재생되었으며, classic 노래는 다음과 같습니다.\n",
    "\n",
    "+ 고유 번호 3: 800회 재생\n",
    "+ 고유 번호 0: 500회 재생\n",
    "+ 고유 번호 2: 150회 재생\n",
    "\n",
    "pop 장르는 3,100회 재생되었으며, pop 노래는 다음과 같습니다.\n",
    "\n",
    "+ 고유 번호 4: 2,500회 재생\n",
    "+ 고유 번호 1: 600회 재생\n",
    "따라서 pop 장르의 [4, 1]번 노래를 먼저, classic 장르의 [3, 0]번 노래를 그다음에 수록합니다.\n",
    "\n",
    "## 문제 풀이"
   ]
  },
  {
   "cell_type": "code",
   "execution_count": 79,
   "id": "superb-wiring",
   "metadata": {},
   "outputs": [],
   "source": [
    "import numpy as np\n",
    "\n",
    "def solution(genres, plays):\n",
    "    answer = []\n",
    "    dict_per_genre = {}\n",
    "\n",
    "    for i, (genre, play) in enumerate(zip(genres, plays)):\n",
    "        if genre in dict_per_genre:\n",
    "            dict_per_genre[genre]['total'] += play\n",
    "            dict_per_genre[genre]['order'].append(i)\n",
    "            dict_per_genre[genre]['count'].append(play)\n",
    "        else:\n",
    "            dict_per_genre[genre] = {}\n",
    "            dict_per_genre[genre]['total'] = play\n",
    "            dict_per_genre[genre]['order'] = [i]\n",
    "            dict_per_genre[genre]['count'] = [play]\n",
    "       \n",
    "    for genre in sorted(dict_per_genre.items(), key=lambda item: item[1]['total'], reverse=True):\n",
    "        for i in np.take(genre[1]['order'], np.argsort(genre[1]['count'])[::-1])[:2]:\n",
    "            answer.append(int(i))\n",
    "    return answer"
   ]
  },
  {
   "cell_type": "code",
   "execution_count": 80,
   "id": "collective-integer",
   "metadata": {},
   "outputs": [
    {
     "data": {
      "text/plain": [
       "[4, 1, 3, 0]"
      ]
     },
     "execution_count": 80,
     "metadata": {},
     "output_type": "execute_result"
    }
   ],
   "source": [
    "genres = [\"classic\", \"pop\", \"classic\", \"classic\", \"pop\"]\n",
    "plays = [500, 600, 150, 800, 2500]\n",
    "solution(genres, plays)"
   ]
  }
 ],
 "metadata": {
  "kernelspec": {
   "display_name": "Python 3",
   "language": "python",
   "name": "python3"
  },
  "language_info": {
   "codemirror_mode": {
    "name": "ipython",
    "version": 3
   },
   "file_extension": ".py",
   "mimetype": "text/x-python",
   "name": "python",
   "nbconvert_exporter": "python",
   "pygments_lexer": "ipython3",
   "version": "3.7.6"
  },
  "toc": {
   "base_numbering": 1,
   "nav_menu": {},
   "number_sections": true,
   "sideBar": true,
   "skip_h1_title": false,
   "title_cell": "Table of Contents",
   "title_sidebar": "Contents",
   "toc_cell": false,
   "toc_position": {},
   "toc_section_display": true,
   "toc_window_display": false
  },
  "varInspector": {
   "cols": {
    "lenName": 16,
    "lenType": 16,
    "lenVar": 40
   },
   "kernels_config": {
    "python": {
     "delete_cmd_postfix": "",
     "delete_cmd_prefix": "del ",
     "library": "var_list.py",
     "varRefreshCmd": "print(var_dic_list())"
    },
    "r": {
     "delete_cmd_postfix": ") ",
     "delete_cmd_prefix": "rm(",
     "library": "var_list.r",
     "varRefreshCmd": "cat(var_dic_list()) "
    }
   },
   "types_to_exclude": [
    "module",
    "function",
    "builtin_function_or_method",
    "instance",
    "_Feature"
   ],
   "window_display": false
  }
 },
 "nbformat": 4,
 "nbformat_minor": 5
}
